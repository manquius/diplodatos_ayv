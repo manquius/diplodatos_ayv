{
 "cells": [
  {
   "cell_type": "markdown",
   "metadata": {},
   "source": [
    "<center>\n",
    "<h4>Universidad Nacional de Córdoba - Facultad de Matemática, Astronomía, Física y Computación</h4>\n",
    "<h3>Diplomatura en Ciencia de Datos, Aprendizaje Automático y sus Aplicaciones</h3>\n",
    "</center>"
   ]
  },
  {
   "cell_type": "markdown",
   "metadata": {},
   "source": [
    "<h1> Práctico I - Estadística </h1>\n",
    "<h3> Análisis y Visualización de Datos - 2019 </h3>\n",
    "\n",
    "Durante este práctico vamos a trabajar sobre el dataset [Human Freedom Index 2018](https://www.cato.org/human-freedom-index-new) de el instituto Cato. Este índice mide en detalle lo que entendemos como libertad, utilizando 79 indicadores de libertad personal y económica en distintos aspectos, hasta obtener un hermoso numerito del 1 al 10. Usaremos una [versión ya limpia del dataset](https://www.kaggle.com/gsutters/the-human-freedom-index/home) que pueden descargar desde Kaggle.\n",
    "\n",
    "Las variables más importantes sobre las que trabaja el dataset son:\n",
    "\n",
    "* Rule of Law\n",
    "* Security and Safety\n",
    "* Movement\n",
    "* Religion\n",
    "* Association, Assembly, and Civil Society\n",
    "* Expression and Information\n",
    "* Identity and Relationships\n",
    "* Size of Government\n",
    "* Legal System and Property Rights\n",
    "* Access to Sound Money\n",
    "* Freedom to Trade Internationally\n",
    "* Regulation of Credit, Labor, and Business\n",
    "\n",
    "Nosotros centrarermos nuestro análisis en variables relacionadas a *Identity and Relationships* en paises de Latinoamérica, y los compararemos con las estadísticas globales. La pregunta a responder es simple: **¿Qué niveles de libertad se viven en Latinoamérica, especificamente en cuanto libertades de indentidad?**. Sin embargo, para hacer un análisis de los datos tenemos que platear también estas sub preguntas:\n",
    "\n",
    "1. ¿Qué significa tener un puntaje de 4.5? Hay que poner los puntajes de la región en contexto con los datos del resto del mundo.\n",
    "2. ¿Cuál es la tendencia a lo largo de los años? ¿Estamos mejorando, empeorando?\n",
    "3. En este estudio, la libertad se mide con dos estimadores principales: *hf_score* que hace referencia a Human Freedom, y *ef_score* que hace referencia a Economic Freedom. Estos dos estimadores, ¿se relacionan de la misma manera con la libertad de identidad?\n",
    "\n",
    "Inicialmente, en toda exploración de datos tenemos muy poca información a priori sobre el significado de los datos y tenemos que empezar por comprenderlos. Les proponemos los siguientes ejercicios como guía para comenzar esta exploración."
   ]
  },
  {
   "cell_type": "code",
   "execution_count": 1,
   "metadata": {},
   "outputs": [],
   "source": [
    "import matplotlib.pyplot as plt\n",
    "from scipy import stats\n",
    "import numpy\n",
    "import pandas\n",
    "import seaborn"
   ]
  },
  {
   "cell_type": "code",
   "execution_count": 2,
   "metadata": {},
   "outputs": [
    {
     "data": {
      "text/plain": [
       "'0.9.0'"
      ]
     },
     "execution_count": 2,
     "metadata": {},
     "output_type": "execute_result"
    }
   ],
   "source": [
    "seaborn.__version__"
   ]
  },
  {
   "cell_type": "code",
   "execution_count": 3,
   "metadata": {},
   "outputs": [
    {
     "data": {
      "text/plain": [
       "(1458, 123)"
      ]
     },
     "execution_count": 3,
     "metadata": {},
     "output_type": "execute_result"
    }
   ],
   "source": [
    "dataset = pandas.read_csv('datasets/hfi_cc_2018.csv')\n",
    "dataset.shape"
   ]
  },
  {
   "cell_type": "code",
   "execution_count": 4,
   "metadata": {},
   "outputs": [
    {
     "data": {
      "text/plain": [
       "Index(['year', 'ISO_code', 'countries', 'region', 'pf_rol_procedural',\n",
       "       'pf_rol_civil', 'pf_rol_criminal', 'pf_rol', 'pf_ss_homicide',\n",
       "       'pf_ss_disappearances_disap',\n",
       "       ...\n",
       "       'ef_regulation_business_bribes', 'ef_regulation_business_licensing',\n",
       "       'ef_regulation_business_compliance', 'ef_regulation_business',\n",
       "       'ef_regulation', 'ef_score', 'ef_rank', 'hf_score', 'hf_rank',\n",
       "       'hf_quartile'],\n",
       "      dtype='object', length=123)"
      ]
     },
     "execution_count": 4,
     "metadata": {},
     "output_type": "execute_result"
    }
   ],
   "source": [
    "dataset.columns  # Way too many columns!"
   ]
  },
  {
   "cell_type": "markdown",
   "metadata": {},
   "source": [
    "Por suerte las columnas tienen un prefijo que nos ayuda a identificar a qué sección pertenecen. Nos quedamos sólo con las que comienzan con *pf_indentity*, junto con otras columnas más generales"
   ]
  },
  {
   "cell_type": "code",
   "execution_count": 5,
   "metadata": {},
   "outputs": [],
   "source": [
    "important_cols = ['year', 'ISO_code', 'countries', 'region']\n",
    "\n",
    "important_cols += [col for col in dataset.columns if 'pf_identity' in col]\n",
    "\n",
    "important_cols += [\n",
    "    'ef_score', # Economic Freedom (score)\n",
    "    'ef_rank', # Economic Freedom (rank)\n",
    "    'hf_score', # Human Freedom (score)\n",
    "    'hf_rank', # Human Freedom (rank)\n",
    "]"
   ]
  },
  {
   "cell_type": "code",
   "execution_count": 6,
   "metadata": {
    "scrolled": false
   },
   "outputs": [
    {
     "data": {
      "text/html": [
       "<div>\n",
       "<style scoped>\n",
       "    .dataframe tbody tr th:only-of-type {\n",
       "        vertical-align: middle;\n",
       "    }\n",
       "\n",
       "    .dataframe tbody tr th {\n",
       "        vertical-align: top;\n",
       "    }\n",
       "\n",
       "    .dataframe thead th {\n",
       "        text-align: right;\n",
       "    }\n",
       "</style>\n",
       "<table border=\"1\" class=\"dataframe\">\n",
       "  <thead>\n",
       "    <tr style=\"text-align: right;\">\n",
       "      <th></th>\n",
       "      <th>year</th>\n",
       "      <th>ISO_code</th>\n",
       "      <th>countries</th>\n",
       "      <th>region</th>\n",
       "      <th>pf_identity_legal</th>\n",
       "      <th>pf_identity_parental_marriage</th>\n",
       "      <th>pf_identity_parental_divorce</th>\n",
       "      <th>pf_identity_parental</th>\n",
       "      <th>pf_identity_sex_male</th>\n",
       "      <th>pf_identity_sex_female</th>\n",
       "      <th>pf_identity_sex</th>\n",
       "      <th>pf_identity_divorce</th>\n",
       "      <th>pf_identity</th>\n",
       "      <th>ef_score</th>\n",
       "      <th>ef_rank</th>\n",
       "      <th>hf_score</th>\n",
       "      <th>hf_rank</th>\n",
       "    </tr>\n",
       "  </thead>\n",
       "  <tbody>\n",
       "    <tr>\n",
       "      <th>0</th>\n",
       "      <td>2016</td>\n",
       "      <td>ALB</td>\n",
       "      <td>Albania</td>\n",
       "      <td>Eastern Europe</td>\n",
       "      <td>0.0</td>\n",
       "      <td>10.0</td>\n",
       "      <td>10.0</td>\n",
       "      <td>10.0</td>\n",
       "      <td>10.0</td>\n",
       "      <td>10.0</td>\n",
       "      <td>10.0</td>\n",
       "      <td>5.0</td>\n",
       "      <td>6.250000</td>\n",
       "      <td>7.54</td>\n",
       "      <td>34.0</td>\n",
       "      <td>7.568140</td>\n",
       "      <td>48.0</td>\n",
       "    </tr>\n",
       "    <tr>\n",
       "      <th>1</th>\n",
       "      <td>2016</td>\n",
       "      <td>DZA</td>\n",
       "      <td>Algeria</td>\n",
       "      <td>Middle East &amp; North Africa</td>\n",
       "      <td>NaN</td>\n",
       "      <td>0.0</td>\n",
       "      <td>5.0</td>\n",
       "      <td>2.5</td>\n",
       "      <td>0.0</td>\n",
       "      <td>0.0</td>\n",
       "      <td>0.0</td>\n",
       "      <td>0.0</td>\n",
       "      <td>0.833333</td>\n",
       "      <td>4.99</td>\n",
       "      <td>159.0</td>\n",
       "      <td>5.135886</td>\n",
       "      <td>155.0</td>\n",
       "    </tr>\n",
       "    <tr>\n",
       "      <th>2</th>\n",
       "      <td>2016</td>\n",
       "      <td>AGO</td>\n",
       "      <td>Angola</td>\n",
       "      <td>Sub-Saharan Africa</td>\n",
       "      <td>10.0</td>\n",
       "      <td>10.0</td>\n",
       "      <td>10.0</td>\n",
       "      <td>10.0</td>\n",
       "      <td>0.0</td>\n",
       "      <td>0.0</td>\n",
       "      <td>0.0</td>\n",
       "      <td>10.0</td>\n",
       "      <td>7.500000</td>\n",
       "      <td>5.17</td>\n",
       "      <td>155.0</td>\n",
       "      <td>5.640662</td>\n",
       "      <td>142.0</td>\n",
       "    </tr>\n",
       "    <tr>\n",
       "      <th>3</th>\n",
       "      <td>2016</td>\n",
       "      <td>ARG</td>\n",
       "      <td>Argentina</td>\n",
       "      <td>Latin America &amp; the Caribbean</td>\n",
       "      <td>10.0</td>\n",
       "      <td>10.0</td>\n",
       "      <td>10.0</td>\n",
       "      <td>10.0</td>\n",
       "      <td>10.0</td>\n",
       "      <td>10.0</td>\n",
       "      <td>10.0</td>\n",
       "      <td>10.0</td>\n",
       "      <td>10.000000</td>\n",
       "      <td>4.84</td>\n",
       "      <td>160.0</td>\n",
       "      <td>6.469848</td>\n",
       "      <td>107.0</td>\n",
       "    </tr>\n",
       "    <tr>\n",
       "      <th>4</th>\n",
       "      <td>2016</td>\n",
       "      <td>ARM</td>\n",
       "      <td>Armenia</td>\n",
       "      <td>Caucasus &amp; Central Asia</td>\n",
       "      <td>7.0</td>\n",
       "      <td>10.0</td>\n",
       "      <td>10.0</td>\n",
       "      <td>10.0</td>\n",
       "      <td>10.0</td>\n",
       "      <td>10.0</td>\n",
       "      <td>10.0</td>\n",
       "      <td>5.0</td>\n",
       "      <td>8.000000</td>\n",
       "      <td>7.57</td>\n",
       "      <td>29.0</td>\n",
       "      <td>7.241402</td>\n",
       "      <td>57.0</td>\n",
       "    </tr>\n",
       "  </tbody>\n",
       "</table>\n",
       "</div>"
      ],
      "text/plain": [
       "   year ISO_code  countries                         region  pf_identity_legal  \\\n",
       "0  2016      ALB    Albania                 Eastern Europe                0.0   \n",
       "1  2016      DZA    Algeria     Middle East & North Africa                NaN   \n",
       "2  2016      AGO     Angola             Sub-Saharan Africa               10.0   \n",
       "3  2016      ARG  Argentina  Latin America & the Caribbean               10.0   \n",
       "4  2016      ARM    Armenia        Caucasus & Central Asia                7.0   \n",
       "\n",
       "   pf_identity_parental_marriage  pf_identity_parental_divorce  \\\n",
       "0                           10.0                          10.0   \n",
       "1                            0.0                           5.0   \n",
       "2                           10.0                          10.0   \n",
       "3                           10.0                          10.0   \n",
       "4                           10.0                          10.0   \n",
       "\n",
       "   pf_identity_parental  pf_identity_sex_male  pf_identity_sex_female  \\\n",
       "0                  10.0                  10.0                    10.0   \n",
       "1                   2.5                   0.0                     0.0   \n",
       "2                  10.0                   0.0                     0.0   \n",
       "3                  10.0                  10.0                    10.0   \n",
       "4                  10.0                  10.0                    10.0   \n",
       "\n",
       "   pf_identity_sex  pf_identity_divorce  pf_identity  ef_score  ef_rank  \\\n",
       "0             10.0                  5.0     6.250000      7.54     34.0   \n",
       "1              0.0                  0.0     0.833333      4.99    159.0   \n",
       "2              0.0                 10.0     7.500000      5.17    155.0   \n",
       "3             10.0                 10.0    10.000000      4.84    160.0   \n",
       "4             10.0                  5.0     8.000000      7.57     29.0   \n",
       "\n",
       "   hf_score  hf_rank  \n",
       "0  7.568140     48.0  \n",
       "1  5.135886    155.0  \n",
       "2  5.640662    142.0  \n",
       "3  6.469848    107.0  \n",
       "4  7.241402     57.0  "
      ]
     },
     "execution_count": 6,
     "metadata": {},
     "output_type": "execute_result"
    }
   ],
   "source": [
    "dataset[important_cols].head()\n"
   ]
  },
  {
   "cell_type": "markdown",
   "metadata": {},
   "source": [
    "- 1 Para evaluar el significado del puntaje 4.5, obtenemos el rango y medidas de dispersion del campo 'ef_score'."
   ]
  },
  {
   "cell_type": "markdown",
   "metadata": {},
   "source": [
    "Exportamos las columnas importantes a una variable, para el mundo y filtrando por region"
   ]
  },
  {
   "cell_type": "code",
   "execution_count": 7,
   "metadata": {},
   "outputs": [],
   "source": [
    "world_dataset = dataset[important_cols]\n",
    "latam_dataset = world_dataset[world_dataset['region'] == 'Latin America & the Caribbean']"
   ]
  },
  {
   "cell_type": "markdown",
   "metadata": {},
   "source": [
    "Obtenemos el rango de 'ef_score'"
   ]
  },
  {
   "cell_type": "code",
   "execution_count": 8,
   "metadata": {},
   "outputs": [
    {
     "data": {
      "text/plain": [
       "(0.0, 10.0)"
      ]
     },
     "execution_count": 8,
     "metadata": {},
     "output_type": "execute_result"
    }
   ],
   "source": [
    "max_pf_identity = world_dataset['pf_identity'].max()\n",
    "min_pf_identity = world_dataset['pf_identity'].min()\n",
    "min_pf_identity, max_pf_identity"
   ]
  },
  {
   "cell_type": "markdown",
   "metadata": {},
   "source": [
    "Obtenemos el rango de 'ef_score'"
   ]
  },
  {
   "cell_type": "code",
   "execution_count": 9,
   "metadata": {},
   "outputs": [
    {
     "data": {
      "text/plain": [
       "(7.33417997096807, 9.166666667000001, 0    10.0\n",
       " dtype: float64, 3.159472661477449)"
      ]
     },
     "execution_count": 9,
     "metadata": {},
     "output_type": "execute_result"
    }
   ],
   "source": [
    "mean_pf_identity = world_dataset['pf_identity'].mean()\n",
    "median_pf_identity = world_dataset['pf_identity'].median()\n",
    "mode_pf_identity = world_dataset['pf_identity'].mode()\n",
    "std_pf_identity = world_dataset['pf_identity'].std()\n",
    "mean_pf_identity, median_pf_identity, mode_pf_identity, std_pf_identity"
   ]
  },
  {
   "cell_type": "markdown",
   "metadata": {},
   "source": [
    "Graficamente"
   ]
  },
  {
   "cell_type": "code",
   "execution_count": 10,
   "metadata": {},
   "outputs": [
    {
     "data": {
      "text/plain": [
       "<matplotlib.axes._subplots.AxesSubplot at 0x7fd2a34da550>"
      ]
     },
     "execution_count": 10,
     "metadata": {},
     "output_type": "execute_result"
    },
    {
     "data": {
      "image/png": "[encoded data removed]",
      "text/plain": [
       "<Figure size 720x432 with 1 Axes>"
      ]
     },
     "metadata": {
      "needs_background": "light"
     },
     "output_type": "display_data"
    }
   ],
   "source": [
    "plt.figure(figsize=(10,6))\n",
    "seaborn.distplot(dataset['pf_identity'].dropna())"
   ]
  },
  {
   "cell_type": "markdown",
   "metadata": {},
   "source": [
    "Con los valores obtenidos, podemos concluir que el valor 4.5 es a nivel mundial, un puntaje que representa libertades limitadas con respecto a otros paises."
   ]
  },
  {
   "cell_type": "markdown",
   "metadata": {},
   "source": [
    "- 2 Considerando la evolucion de la libertad en Argentina"
   ]
  },
  {
   "cell_type": "code",
   "execution_count": 11,
   "metadata": {},
   "outputs": [
    {
     "data": {
      "text/plain": [
       "<matplotlib.axes._subplots.AxesSubplot at 0x7fd2a31730b8>"
      ]
     },
     "execution_count": 11,
     "metadata": {},
     "output_type": "execute_result"
    },
    {
     "data": {
      "image/png": "[encoded data removed]",
      "text/plain": [
       "<Figure size 432x288 with 1 Axes>"
      ]
     },
     "metadata": {
      "needs_background": "light"
     },
     "output_type": "display_data"
    }
   ],
   "source": [
    "argentina_dataset = world_dataset[world_dataset['ISO_code'] == 'ARG']\n",
    "seaborn.lineplot(data=argentina_dataset, x='year', y='pf_identity')"
   ]
  },
  {
   "cell_type": "markdown",
   "metadata": {},
   "source": [
    "Podemos observar que el indice de libertad de indentidad se mantiene constante desde el año 2008 en el valor 10."
   ]
  },
  {
   "cell_type": "markdown",
   "metadata": {},
   "source": [
    "3 - En cuanto a la relacion de la libertad de indetidad con la libertad humana y economica, podemos intuir que la libertad humana se encuentra mucho mas relacionada a la libertad de identidad que la economica. Esto puede comprobarse midiendo la correlacion de ambas variables contra pf_identity. A modo de ejemplo:"
   ]
  },
  {
   "cell_type": "code",
   "execution_count": 12,
   "metadata": {},
   "outputs": [
    {
     "data": {
      "text/plain": [
       "(0.6777541950437669, 0.38887723797145596)"
      ]
     },
     "execution_count": 12,
     "metadata": {},
     "output_type": "execute_result"
    }
   ],
   "source": [
    "world_dataset['hf_score'].corr(world_dataset['pf_identity']), world_dataset['ef_score'].corr(world_dataset['pf_identity'])\n"
   ]
  },
  {
   "cell_type": "markdown",
   "metadata": {},
   "source": [
    "Observamos una mayor correlacion entre hf_score y pf_identity, lo que nos permite suponer que la libertad humana tiene una relacion mas fuerte a la libertad de identidad que la economica."
   ]
  },
  {
   "cell_type": "markdown",
   "metadata": {},
   "source": [
    "## 1. Estadísticos descriptivos\n",
    "\n",
    "####  1. Para comenzar con un pantallazo de los datos, calcular el rango de las variables.  "
   ]
  },
  {
   "cell_type": "code",
   "execution_count": 13,
   "metadata": {},
   "outputs": [
    {
     "data": {
      "text/html": [
       "<div>\n",
       "<style scoped>\n",
       "    .dataframe tbody tr th:only-of-type {\n",
       "        vertical-align: middle;\n",
       "    }\n",
       "\n",
       "    .dataframe tbody tr th {\n",
       "        vertical-align: top;\n",
       "    }\n",
       "\n",
       "    .dataframe thead th {\n",
       "        text-align: right;\n",
       "    }\n",
       "</style>\n",
       "<table border=\"1\" class=\"dataframe\">\n",
       "  <thead>\n",
       "    <tr style=\"text-align: right;\">\n",
       "      <th></th>\n",
       "      <th>variables</th>\n",
       "      <th>max</th>\n",
       "      <th>min</th>\n",
       "      <th>range</th>\n",
       "    </tr>\n",
       "  </thead>\n",
       "  <tbody>\n",
       "    <tr>\n",
       "      <th>0</th>\n",
       "      <td>pf_identity_legal</td>\n",
       "      <td>10.000000</td>\n",
       "      <td>0.000000</td>\n",
       "      <td>10.000000</td>\n",
       "    </tr>\n",
       "    <tr>\n",
       "      <th>1</th>\n",
       "      <td>pf_identity_parental_marriage</td>\n",
       "      <td>10.000000</td>\n",
       "      <td>0.000000</td>\n",
       "      <td>10.000000</td>\n",
       "    </tr>\n",
       "    <tr>\n",
       "      <th>2</th>\n",
       "      <td>pf_identity_parental_divorce</td>\n",
       "      <td>10.000000</td>\n",
       "      <td>0.000000</td>\n",
       "      <td>10.000000</td>\n",
       "    </tr>\n",
       "    <tr>\n",
       "      <th>3</th>\n",
       "      <td>pf_identity_parental</td>\n",
       "      <td>10.000000</td>\n",
       "      <td>0.000000</td>\n",
       "      <td>10.000000</td>\n",
       "    </tr>\n",
       "    <tr>\n",
       "      <th>4</th>\n",
       "      <td>pf_identity_sex_male</td>\n",
       "      <td>10.000000</td>\n",
       "      <td>0.000000</td>\n",
       "      <td>10.000000</td>\n",
       "    </tr>\n",
       "    <tr>\n",
       "      <th>5</th>\n",
       "      <td>pf_identity_sex_female</td>\n",
       "      <td>10.000000</td>\n",
       "      <td>0.000000</td>\n",
       "      <td>10.000000</td>\n",
       "    </tr>\n",
       "    <tr>\n",
       "      <th>6</th>\n",
       "      <td>pf_identity_sex</td>\n",
       "      <td>10.000000</td>\n",
       "      <td>0.000000</td>\n",
       "      <td>10.000000</td>\n",
       "    </tr>\n",
       "    <tr>\n",
       "      <th>7</th>\n",
       "      <td>pf_identity_divorce</td>\n",
       "      <td>10.000000</td>\n",
       "      <td>0.000000</td>\n",
       "      <td>10.000000</td>\n",
       "    </tr>\n",
       "    <tr>\n",
       "      <th>8</th>\n",
       "      <td>pf_identity</td>\n",
       "      <td>10.000000</td>\n",
       "      <td>0.000000</td>\n",
       "      <td>10.000000</td>\n",
       "    </tr>\n",
       "    <tr>\n",
       "      <th>9</th>\n",
       "      <td>ef_score</td>\n",
       "      <td>9.190000</td>\n",
       "      <td>2.880000</td>\n",
       "      <td>6.310000</td>\n",
       "    </tr>\n",
       "    <tr>\n",
       "      <th>10</th>\n",
       "      <td>ef_rank</td>\n",
       "      <td>162.000000</td>\n",
       "      <td>1.000000</td>\n",
       "      <td>161.000000</td>\n",
       "    </tr>\n",
       "    <tr>\n",
       "      <th>11</th>\n",
       "      <td>hf_score</td>\n",
       "      <td>9.126313</td>\n",
       "      <td>3.765827</td>\n",
       "      <td>5.360486</td>\n",
       "    </tr>\n",
       "    <tr>\n",
       "      <th>12</th>\n",
       "      <td>hf_rank</td>\n",
       "      <td>162.000000</td>\n",
       "      <td>1.000000</td>\n",
       "      <td>161.000000</td>\n",
       "    </tr>\n",
       "  </tbody>\n",
       "</table>\n",
       "</div>"
      ],
      "text/plain": [
       "                        variables         max       min       range\n",
       "0               pf_identity_legal   10.000000  0.000000   10.000000\n",
       "1   pf_identity_parental_marriage   10.000000  0.000000   10.000000\n",
       "2    pf_identity_parental_divorce   10.000000  0.000000   10.000000\n",
       "3            pf_identity_parental   10.000000  0.000000   10.000000\n",
       "4            pf_identity_sex_male   10.000000  0.000000   10.000000\n",
       "5          pf_identity_sex_female   10.000000  0.000000   10.000000\n",
       "6                 pf_identity_sex   10.000000  0.000000   10.000000\n",
       "7             pf_identity_divorce   10.000000  0.000000   10.000000\n",
       "8                     pf_identity   10.000000  0.000000   10.000000\n",
       "9                        ef_score    9.190000  2.880000    6.310000\n",
       "10                        ef_rank  162.000000  1.000000  161.000000\n",
       "11                       hf_score    9.126313  3.765827    5.360486\n",
       "12                        hf_rank  162.000000  1.000000  161.000000"
      ]
     },
     "execution_count": 13,
     "metadata": {},
     "output_type": "execute_result"
    }
   ],
   "source": [
    "range_important_cols = [col for col in dataset.columns if 'pf_identity' in col]\n",
    "\n",
    "range_important_cols += [\n",
    "    'ef_score', # Economic Freedom (score)\n",
    "    'ef_rank', # Economic Freedom (rank)\n",
    "    'hf_score', # Human Freedom (score)\n",
    "    'hf_rank', # Human Freedom (rank)\n",
    "]\n",
    "\n",
    "min_max_by_var = dataset[range_important_cols].describe().loc[['max','min']]\n",
    "range_values = [(col,  min_max_by_var[col].max(), min_max_by_var[col].min(), min_max_by_var[col].max() - min_max_by_var[col].min()) for col in range_important_cols ]\n",
    "pandas.DataFrame(range_values, columns=['variables', 'max', 'min', 'range'])"
   ]
  },
  {
   "cell_type": "markdown",
   "metadata": {},
   "source": [
    "####  2. Obtener media, mediana y desviación estándar de las variables *pf_identity* y *hf_score* en el mundo y compararla con la de Latinoamérica y el caribe. ¿Tiene sentido calcular la moda?"
   ]
  },
  {
   "cell_type": "code",
   "execution_count": 14,
   "metadata": {},
   "outputs": [],
   "source": [
    "latam_and_caribean = \"Latin America & the Caribbean\"\n",
    "filter_latam = dataset[\"region\"] == latam_and_caribean\n",
    "#rest_of_the_world = ~latam  <-- resto del mundo vs el mundo\n",
    "\n",
    "def describe_values(dataset, group, important_cols):\n",
    "    \"\"\" \n",
    "        Devolvemos un nuevo DataFrame con los valores\n",
    "        de media, mediana y desvio estandar, para una \n",
    "        categoria del dataset.\n",
    "    \"\"\"\n",
    "    our_dataset =  dataset[group][important_cols];\n",
    "    tmp_set = our_dataset.describe().loc[['mean','std']]\n",
    "    tmp_median = pandas.DataFrame(our_dataset.median(skipna=True), columns = [\"median\"] ).T\n",
    "    return pandas.concat([tmp_set, tmp_median])\n",
    "\n",
    "def compare_values(type_value, dataset_a, dataset_b):\n",
    "    \"\"\"\n",
    "        dado dos datasets iguales \n",
    "    \"\"\"\n",
    "    return pandas.concat([dataset_a.loc[type_value], dataset_b.loc[type_value]]).T\n",
    "\n",
    "#Utilizamos las funciones para preparar los datos.\n",
    "latam = describe_values(dataset, filter_latam, ['pf_identity', 'hf_score']) \n",
    "world = describe_values(dataset, dataset['region'] != \"\" , ['pf_identity', 'hf_score']) \n"
   ]
  },
  {
   "cell_type": "code",
   "execution_count": 15,
   "metadata": {},
   "outputs": [
    {
     "data": {
      "text/html": [
       "<div>\n",
       "<style scoped>\n",
       "    .dataframe tbody tr th:only-of-type {\n",
       "        vertical-align: middle;\n",
       "    }\n",
       "\n",
       "    .dataframe tbody tr th {\n",
       "        vertical-align: top;\n",
       "    }\n",
       "\n",
       "    .dataframe thead th {\n",
       "        text-align: right;\n",
       "    }\n",
       "</style>\n",
       "<table border=\"1\" class=\"dataframe\">\n",
       "  <thead>\n",
       "    <tr style=\"text-align: right;\">\n",
       "      <th></th>\n",
       "      <th>Media_Latam</th>\n",
       "      <th>Media_Mundo</th>\n",
       "    </tr>\n",
       "  </thead>\n",
       "  <tbody>\n",
       "    <tr>\n",
       "      <th>pf_identity</th>\n",
       "      <td>8.765086</td>\n",
       "      <td>7.334180</td>\n",
       "    </tr>\n",
       "    <tr>\n",
       "      <th>hf_score</th>\n",
       "      <td>7.047982</td>\n",
       "      <td>6.993444</td>\n",
       "    </tr>\n",
       "  </tbody>\n",
       "</table>\n",
       "</div>"
      ],
      "text/plain": [
       "             Media_Latam  Media_Mundo\n",
       "pf_identity     8.765086     7.334180\n",
       "hf_score        7.047982     6.993444"
      ]
     },
     "execution_count": 15,
     "metadata": {},
     "output_type": "execute_result"
    }
   ],
   "source": [
    "#Comparar media de Latam & Caribe con la del mundo \n",
    "result = compare_values([\"mean\"], latam, world)\n",
    "result.columns=['Media_Latam', \"Media_Mundo\"]\n",
    "result"
   ]
  },
  {
   "cell_type": "code",
   "execution_count": 16,
   "metadata": {},
   "outputs": [
    {
     "data": {
      "text/html": [
       "<div>\n",
       "<style scoped>\n",
       "    .dataframe tbody tr th:only-of-type {\n",
       "        vertical-align: middle;\n",
       "    }\n",
       "\n",
       "    .dataframe tbody tr th {\n",
       "        vertical-align: top;\n",
       "    }\n",
       "\n",
       "    .dataframe thead th {\n",
       "        text-align: right;\n",
       "    }\n",
       "</style>\n",
       "<table border=\"1\" class=\"dataframe\">\n",
       "  <thead>\n",
       "    <tr style=\"text-align: right;\">\n",
       "      <th></th>\n",
       "      <th>Mediana_Latam</th>\n",
       "      <th>Mediana_Mundo</th>\n",
       "    </tr>\n",
       "  </thead>\n",
       "  <tbody>\n",
       "    <tr>\n",
       "      <th>pf_identity</th>\n",
       "      <td>10.000000</td>\n",
       "      <td>9.166667</td>\n",
       "    </tr>\n",
       "    <tr>\n",
       "      <th>hf_score</th>\n",
       "      <td>7.028045</td>\n",
       "      <td>6.923840</td>\n",
       "    </tr>\n",
       "  </tbody>\n",
       "</table>\n",
       "</div>"
      ],
      "text/plain": [
       "             Mediana_Latam  Mediana_Mundo\n",
       "pf_identity      10.000000       9.166667\n",
       "hf_score          7.028045       6.923840"
      ]
     },
     "execution_count": 16,
     "metadata": {},
     "output_type": "execute_result"
    }
   ],
   "source": [
    "#Comparar mediana de Latam & Caribe con la del mundo \n",
    "result = compare_values([\"median\"], latam, world)\n",
    "result.columns=['Mediana_Latam', \"Mediana_Mundo\"]\n",
    "result"
   ]
  },
  {
   "cell_type": "code",
   "execution_count": 17,
   "metadata": {},
   "outputs": [
    {
     "data": {
      "text/html": [
       "<div>\n",
       "<style scoped>\n",
       "    .dataframe tbody tr th:only-of-type {\n",
       "        vertical-align: middle;\n",
       "    }\n",
       "\n",
       "    .dataframe tbody tr th {\n",
       "        vertical-align: top;\n",
       "    }\n",
       "\n",
       "    .dataframe thead th {\n",
       "        text-align: right;\n",
       "    }\n",
       "</style>\n",
       "<table border=\"1\" class=\"dataframe\">\n",
       "  <thead>\n",
       "    <tr style=\"text-align: right;\">\n",
       "      <th></th>\n",
       "      <th>STD_Latam</th>\n",
       "      <th>STD_Mundo</th>\n",
       "    </tr>\n",
       "  </thead>\n",
       "  <tbody>\n",
       "    <tr>\n",
       "      <th>pf_identity</th>\n",
       "      <td>1.711732</td>\n",
       "      <td>3.159473</td>\n",
       "    </tr>\n",
       "    <tr>\n",
       "      <th>hf_score</th>\n",
       "      <td>0.608904</td>\n",
       "      <td>1.025811</td>\n",
       "    </tr>\n",
       "  </tbody>\n",
       "</table>\n",
       "</div>"
      ],
      "text/plain": [
       "             STD_Latam  STD_Mundo\n",
       "pf_identity   1.711732   3.159473\n",
       "hf_score      0.608904   1.025811"
      ]
     },
     "execution_count": 17,
     "metadata": {},
     "output_type": "execute_result"
    }
   ],
   "source": [
    "#Comparar STD (Desvio estandar) de Latam & Caribe con la del mundo \n",
    "result = compare_values([\"std\"], latam, world)\n",
    "result.columns=['STD_Latam', \"STD_Mundo\"]\n",
    "result"
   ]
  },
  {
   "cell_type": "markdown",
   "metadata": {},
   "source": [
    "Observamos que si bien el grado de libertad humana en America latina ligeramente es mas alto, al igual que la libertad de identidad, la dispersion es tambien notablemente menor en ambos casos. Podemos obtener la moda de pf_identity para observar cual es el nivel de libertad en la mayor parte de los paises, pero no seria informacion relevante. Por otro lado, la moda no tiene sentido para hf_score, que al ser una variable continua, no nos permitira obtener un valor unico."
   ]
  },
  {
   "cell_type": "markdown",
   "metadata": {},
   "source": [
    "#### Moda\n",
    "Podriamos observar que tanto la media como la mediana son muy similares, pero no iguales. Esto de una idea de que la distribucion no es simétrica y por lo cual el valor de la moda se debe calcular para saber su valor correcto. Por otro lado, la mediana esta muy cerca de el valor maximo y por delante de la media, lo cual implica que la moda debería ubicarse a la derecha de la mediana, lo cual implica que podemos inferir el valor que tendrá sin necesidad de calcularla."
   ]
  },
  {
   "cell_type": "markdown",
   "metadata": {},
   "source": [
    "#### 3. ¿Son todos los valores de *pf_identity*  y *hf_score* directamente comparables? ¿Qué otra variable podría influenciarlos?"
   ]
  },
  {
   "cell_type": "markdown",
   "metadata": {},
   "source": [
    "*pf_identity* y *hf_score*  son ambas puntuaciones que se miden en una escala de 0 a 10 (donde en este caso 10 implica el mayor grado de libertad)"
   ]
  },
  {
   "cell_type": "markdown",
   "metadata": {},
   "source": [
    " Si bien hf_score se encuentra influenciada por pf_identity, tambien son parte de la libertad humana muchas otras variables. Por ejemplo: las iniciadas con pf_expression o pf_religion"
   ]
  },
  {
   "cell_type": "markdown",
   "metadata": {},
   "source": [
    "#### 4. ¿Cómo pueden sanearse los valores faltantes?"
   ]
  },
  {
   "cell_type": "markdown",
   "metadata": {},
   "source": [
    "El saneado de los datos faltantes puede resolverse de diferentes maneras dependiendo del significado de la variable a estudiar y la cantidad de datos. En el caso de tratarse de pocos datos ausentes en una muestra grande. Es posible ignorar la fila completa de datos."
   ]
  },
  {
   "cell_type": "markdown",
   "metadata": {},
   "source": [
    "##### 5. ¿Encuentra outliers en estas dos variables? ¿Qué método utiliza para detectarlos? ¿Los outliers, son globales o por grupo? ¿Los eliminaría del conjunto de datos?"
   ]
  },
  {
   "cell_type": "markdown",
   "metadata": {},
   "source": [
    "Una forma rápida de identificar *autliers* es utilizando boxplot y aplicarlo a las dos variables. Con la ayuda de *pandas.melt*"
   ]
  },
  {
   "cell_type": "code",
   "execution_count": 18,
   "metadata": {},
   "outputs": [
    {
     "data": {
      "text/plain": [
       "<matplotlib.axes._subplots.AxesSubplot at 0x7fd2a3127390>"
      ]
     },
     "execution_count": 18,
     "metadata": {},
     "output_type": "execute_result"
    },
    {
     "data": {
      "image/png": "[encoded data removed]",
      "text/plain": [
       "<Figure size 432x288 with 1 Axes>"
      ]
     },
     "metadata": {
      "needs_background": "light"
     },
     "output_type": "display_data"
    }
   ],
   "source": [
    "seaborn.boxplot(data=pandas.melt(dataset[['pf_identity','hf_score']]),\n",
    "                x=\"variable\", y=\"value\", palette=\"Set2\")\n",
    "\n"
   ]
  },
  {
   "cell_type": "markdown",
   "metadata": {},
   "source": [
    "Notamos que *hf_score* tiene valores outliers. Para detectar si son globales o por grupo podemos mirar\n",
    "\n"
   ]
  },
  {
   "cell_type": "code",
   "execution_count": 19,
   "metadata": {},
   "outputs": [
    {
     "data": {
      "text/plain": [
       "<matplotlib.axes._subplots.AxesSubplot at 0x7fd2a30ed7f0>"
      ]
     },
     "execution_count": 19,
     "metadata": {},
     "output_type": "execute_result"
    },
    {
     "data": {
      "image/png": "[encoded data removed]",
      "text/plain": [
       "<Figure size 432x288 with 1 Axes>"
      ]
     },
     "metadata": {
      "needs_background": "light"
     },
     "output_type": "display_data"
    }
   ],
   "source": [
    "seaborn.distplot(dataset[['hf_score']].dropna())\n"
   ]
  },
  {
   "cell_type": "markdown",
   "metadata": {},
   "source": [
    "Mirando el histograma que corresponde a *hf_score* vemos que hay algunos valores en el extremo izquierdo, no estan exageradamente alejados del valor medio, y ademas caen adentro del rango de la variable.\n",
    "Siendo pf_identity y hf_score dos variables limitadas entre 0 y 10, los valores extremos no pueden ser considerados outliers."
   ]
  },
  {
   "cell_type": "markdown",
   "metadata": {},
   "source": [
    "## 2. Agregación de datos\n",
    "\n",
    "#### 1. Grafiquen la media de la variable *pf_identity* y *hf_score* a través de los años."
   ]
  },
  {
   "cell_type": "code",
   "execution_count": 20,
   "metadata": {
    "scrolled": true
   },
   "outputs": [
    {
     "data": {
      "text/html": [
       "<table border=\"1\" class=\"dataframe\">\n",
       "  <thead>\n",
       "    <tr style=\"text-align: right;\">\n",
       "      <th></th>\n",
       "      <th>year</th>\n",
       "      <th>pf_identity</th>\n",
       "      <th>hf_score</th>\n",
       "    </tr>\n",
       "  </thead>\n",
       "  <tbody>\n",
       "    <tr>\n",
       "      <th>0</th>\n",
       "      <td>2008</td>\n",
       "      <td>7.517730</td>\n",
       "      <td>7.069785</td>\n",
       "    </tr>\n",
       "    <tr>\n",
       "      <th>1</th>\n",
       "      <td>2009</td>\n",
       "      <td>7.517730</td>\n",
       "      <td>7.075678</td>\n",
       "    </tr>\n",
       "    <tr>\n",
       "      <th>2</th>\n",
       "      <td>2010</td>\n",
       "      <td>7.303922</td>\n",
       "      <td>7.036396</td>\n",
       "    </tr>\n",
       "    <tr>\n",
       "      <th>3</th>\n",
       "      <td>2011</td>\n",
       "      <td>7.467320</td>\n",
       "      <td>7.031203</td>\n",
       "    </tr>\n",
       "    <tr>\n",
       "      <th>4</th>\n",
       "      <td>2012</td>\n",
       "      <td>7.467320</td>\n",
       "      <td>6.985917</td>\n",
       "    </tr>\n",
       "    <tr>\n",
       "      <th>5</th>\n",
       "      <td>2013</td>\n",
       "      <td>7.364650</td>\n",
       "      <td>6.983139</td>\n",
       "    </tr>\n",
       "    <tr>\n",
       "      <th>6</th>\n",
       "      <td>2014</td>\n",
       "      <td>7.387317</td>\n",
       "      <td>6.958734</td>\n",
       "    </tr>\n",
       "    <tr>\n",
       "      <th>7</th>\n",
       "      <td>2015</td>\n",
       "      <td>7.062893</td>\n",
       "      <td>6.932810</td>\n",
       "    </tr>\n",
       "    <tr>\n",
       "      <th>8</th>\n",
       "      <td>2016</td>\n",
       "      <td>6.976337</td>\n",
       "      <td>6.889871</td>\n",
       "    </tr>\n",
       "  </tbody>\n",
       "</table>"
      ],
      "text/plain": [
       "<IPython.core.display.HTML object>"
      ]
     },
     "metadata": {},
     "output_type": "display_data"
    }
   ],
   "source": [
    "from IPython.display import display, HTML\n",
    "df = dataset[['year','pf_identity','hf_score']].dropna().groupby(['year']).mean().reset_index()\n",
    "display(HTML(df.to_html()))"
   ]
  },
  {
   "cell_type": "code",
   "execution_count": 21,
   "metadata": {},
   "outputs": [
    {
     "data": {
      "text/plain": [
       "<matplotlib.axes._subplots.AxesSubplot at 0x7fd2a302cb00>"
      ]
     },
     "execution_count": 21,
     "metadata": {},
     "output_type": "execute_result"
    },
    {
     "data": {
      "image/png": "[encoded data removed]",
      "text/plain": [
       "<Figure size 432x288 with 1 Axes>"
      ]
     },
     "metadata": {
      "needs_background": "light"
     },
     "output_type": "display_data"
    }
   ],
   "source": [
    "df=pandas.melt(df, id_vars=['year']).sort_values(['variable','value'])\n",
    "seaborn.lineplot(data=df, x='year', y='value', hue='variable')"
   ]
  },
  {
   "cell_type": "markdown",
   "metadata": {},
   "source": [
    "#### 2. Realicen los mismos gráficos, pero separando por regiones (Cada variable en un gráfico distinto, sino no se ve nada). ¿La tendencia observada, es la misma que si no dividimos por regiones?"
   ]
  },
  {
   "cell_type": "code",
   "execution_count": 22,
   "metadata": {},
   "outputs": [],
   "source": [
    "df_means = dataset[['year', 'region','pf_identity','hf_score']].dropna().groupby(['year','region']).mean().reset_index()\n",
    "\n",
    "def group_variable_by_region(dataset,variable):\n",
    "    df = pandas.melt(\n",
    "        dataset[['year', 'region',variable]],\n",
    "        id_vars=['year','region']\n",
    "    ).sort_values(\n",
    "        ['variable','value']\n",
    "    )\n",
    "    seaborn.lineplot(data=df, x='year', y='value', hue='region')\n"
   ]
  },
  {
   "cell_type": "code",
   "execution_count": 23,
   "metadata": {
    "scrolled": true
   },
   "outputs": [
    {
     "data": {
      "text/plain": [
       "<matplotlib.legend.Legend at 0x7fd2a2f67e10>"
      ]
     },
     "execution_count": 23,
     "metadata": {},
     "output_type": "execute_result"
    },
    {
     "data": {
      "image/png": "[encoded data removed]",
      "text/plain": [
       "<Figure size 1440x720 with 1 Axes>"
      ]
     },
     "metadata": {
      "needs_background": "light"
     },
     "output_type": "display_data"
    }
   ],
   "source": [
    "fig, ax = plt.subplots(1,1, figsize=(20,10))\n",
    "group_variable_by_region(df_means,'hf_score')\n",
    "ax.legend(loc='lower center', bbox_to_anchor=(0.5, 1.05),\n",
    "          ncol=3, fancybox=True, shadow=True)\n"
   ]
  },
  {
   "cell_type": "code",
   "execution_count": 24,
   "metadata": {},
   "outputs": [
    {
     "data": {
      "text/plain": [
       "<matplotlib.legend.Legend at 0x7fd2a2a52d68>"
      ]
     },
     "execution_count": 24,
     "metadata": {},
     "output_type": "execute_result"
    },
    {
     "data": {
      "image/png": "[encoded data removed]",
      "text/plain": [
       "<Figure size 1440x720 with 1 Axes>"
      ]
     },
     "metadata": {
      "needs_background": "light"
     },
     "output_type": "display_data"
    }
   ],
   "source": [
    "fig, ax = plt.subplots(1,1, figsize=(20,10))\n",
    "\n",
    "group_variable_by_region(df_means,'pf_identity')\n",
    "ax.legend(loc='lower center', bbox_to_anchor=(0.5, 1.05),\n",
    "      ncol=3, fancybox=True, shadow=True)\n"
   ]
  },
  {
   "cell_type": "markdown",
   "metadata": {},
   "source": [
    "Si bien la tendencia global pareciera indica que hay un decremento en las liertades de identidad, separando por regiones podemos ver que ese decremento pertenece principalmente a las eregiones de Medio Oriente y en los ultimos años de Latinoamerica y el caribe. Pero se notan mejoras en regiones como SUb-Sahara y Oceania."
   ]
  },
  {
   "cell_type": "markdown",
   "metadata": {},
   "source": [
    "#### -3. Si lo consideran necesario, grafiquen algunos países de Latinoamerica para tratar de explicar la tendencia de la variable *pf_identity* en la región. ¿Cómo seleccionarion los países relevantes a esa tendencia?\n",
    "Hint: hay un gráfico de seaborn que hace todo por vos!"
   ]
  },
  {
   "cell_type": "markdown",
   "metadata": {},
   "source": [
    "Selecciono los paises con menores niveles en el ultimo año."
   ]
  },
  {
   "cell_type": "code",
   "execution_count": 25,
   "metadata": {},
   "outputs": [
    {
     "data": {
      "text/plain": [
       "11    BRD\n",
       "31    CHL\n",
       "60    GUY\n",
       "Name: ISO_code, dtype: object"
      ]
     },
     "execution_count": 25,
     "metadata": {},
     "output_type": "execute_result"
    }
   ],
   "source": [
    "last_year = latam_dataset[latam_dataset['year'] == 2016]\n",
    "less_free = last_year[last_year['pf_identity'] <6]\n",
    "less_free['ISO_code']"
   ]
  },
  {
   "cell_type": "code",
   "execution_count": 26,
   "metadata": {},
   "outputs": [
    {
     "data": {
      "text/plain": [
       "<matplotlib.axes._subplots.AxesSubplot at 0x7fd2a2e6ad68>"
      ]
     },
     "execution_count": 26,
     "metadata": {},
     "output_type": "execute_result"
    },
    {
     "data": {
      "image/png": "[encoded data removed]",
      "text/plain": [
       "<Figure size 1224x432 with 1 Axes>"
      ]
     },
     "metadata": {
      "needs_background": "light"
     },
     "output_type": "display_data"
    }
   ],
   "source": [
    "plt.figure(figsize=(17,6))\n",
    "selected_countries = latam_dataset[latam_dataset['ISO_code'].isin(['BRD', 'CHL', 'GUY'])]\n",
    "seaborn.lineplot(data=selected_countries, x='year', y='pf_identity', hue='ISO_code', err_style=\"bars\")"
   ]
  },
  {
   "cell_type": "markdown",
   "metadata": {},
   "source": [
    "Se observa que la tendencia es a la baja en los ultimos años para estos paises, lo que origina que, al miram por region, veamos una caida en la recta que representa la variable."
   ]
  },
  {
   "cell_type": "markdown",
   "metadata": {},
   "source": [
    "#### Sólo por curiosidad, graficar la tendencia de *hf_score* y *ef_score* a través de los años. ¿Tienen alguna hipótesis para este comportamiento?"
   ]
  },
  {
   "cell_type": "code",
   "execution_count": 27,
   "metadata": {},
   "outputs": [
    {
     "data": {
      "text/html": [
       "<table border=\"1\" class=\"dataframe\">\n",
       "  <thead>\n",
       "    <tr style=\"text-align: right;\">\n",
       "      <th></th>\n",
       "      <th>year</th>\n",
       "      <th>hf_score</th>\n",
       "      <th>ef_score</th>\n",
       "    </tr>\n",
       "  </thead>\n",
       "  <tbody>\n",
       "    <tr>\n",
       "      <th>0</th>\n",
       "      <td>2008</td>\n",
       "      <td>7.069785</td>\n",
       "      <td>6.742270</td>\n",
       "    </tr>\n",
       "    <tr>\n",
       "      <th>1</th>\n",
       "      <td>2009</td>\n",
       "      <td>7.075678</td>\n",
       "      <td>6.759504</td>\n",
       "    </tr>\n",
       "    <tr>\n",
       "      <th>2</th>\n",
       "      <td>2010</td>\n",
       "      <td>7.036396</td>\n",
       "      <td>6.766013</td>\n",
       "    </tr>\n",
       "    <tr>\n",
       "      <th>3</th>\n",
       "      <td>2011</td>\n",
       "      <td>7.031203</td>\n",
       "      <td>6.803399</td>\n",
       "    </tr>\n",
       "    <tr>\n",
       "      <th>4</th>\n",
       "      <td>2012</td>\n",
       "      <td>6.985917</td>\n",
       "      <td>6.783922</td>\n",
       "    </tr>\n",
       "    <tr>\n",
       "      <th>5</th>\n",
       "      <td>2013</td>\n",
       "      <td>6.983139</td>\n",
       "      <td>6.792420</td>\n",
       "    </tr>\n",
       "    <tr>\n",
       "      <th>6</th>\n",
       "      <td>2014</td>\n",
       "      <td>6.958734</td>\n",
       "      <td>6.818239</td>\n",
       "    </tr>\n",
       "    <tr>\n",
       "      <th>7</th>\n",
       "      <td>2015</td>\n",
       "      <td>6.932810</td>\n",
       "      <td>6.801572</td>\n",
       "    </tr>\n",
       "    <tr>\n",
       "      <th>8</th>\n",
       "      <td>2016</td>\n",
       "      <td>6.889871</td>\n",
       "      <td>6.795062</td>\n",
       "    </tr>\n",
       "  </tbody>\n",
       "</table>"
      ],
      "text/plain": [
       "<IPython.core.display.HTML object>"
      ]
     },
     "metadata": {},
     "output_type": "display_data"
    },
    {
     "data": {
      "text/plain": [
       "<matplotlib.axes._subplots.AxesSubplot at 0x7fd2a2d34128>"
      ]
     },
     "execution_count": 27,
     "metadata": {},
     "output_type": "execute_result"
    },
    {
     "data": {
      "image/png": "[encoded data removed]",
      "text/plain": [
       "<Figure size 432x288 with 1 Axes>"
      ]
     },
     "metadata": {
      "needs_background": "light"
     },
     "output_type": "display_data"
    }
   ],
   "source": [
    "df = dataset[['year','hf_score','ef_score']].dropna().groupby(['year']).mean().reset_index()\n",
    "display(HTML(df.to_html()))\n",
    "df=pandas.melt(df, id_vars=['year']).sort_values(['variable','value'])\n",
    "\n",
    "#barras vs lineas\n",
    "seaborn.lineplot(data=df, x='year', y='value', hue='variable')"
   ]
  },
  {
   "cell_type": "markdown",
   "metadata": {},
   "source": [
    "*Economic Freedon Score* se utiliza para calcular *Human Freedom Score*, y tiene mucho peso, pondera casi la mitad del valor segun *https://object.cato.org/sites/cato.org/files/human-freedom-index-files/human-freedom-index-2018-revised.pdf* (pagina 16). En base al informe, las actividades económicas en nuestra vida son muy comunes, por lo tanto mientras menos restricciones se tengan sobre esatas actividades, mayor será la independencia y la capasidad de elección por parte de una persona. (TODO: ¿Pero poque a lo largo de los años?)"
   ]
  },
  {
   "cell_type": "markdown",
   "metadata": {},
   "source": [
    "## 2. Distribuciones\n",
    "#### 1. Graficar en un mismo histograma la distribución de la variable *pf_identity* en global, y en Latinoamérica y el caribe. Repetir para la variable *hf_score*. ¿Visualmente, a qué tipo de distribución corresponde cada variable? ¿Es correcto utilizar todos los registros para esas zonas en estos gráficos?\n"
   ]
  },
  {
   "cell_type": "markdown",
   "metadata": {},
   "source": [
    "##### *pf_identity* para Latinoamerica vs Global"
   ]
  },
  {
   "cell_type": "code",
   "execution_count": 35,
   "metadata": {},
   "outputs": [
    {
     "name": "stderr",
     "output_type": "stream",
     "text": [
      "/home/sgalan/anaconda3/envs/diplodatos/lib/python3.6/site-packages/ipykernel_launcher.py:3: UserWarning: Boolean Series key will be reindexed to match DataFrame index.\n",
      "  This is separate from the ipykernel package so we can avoid doing imports until\n"
     ]
    },
    {
     "data": {
      "text/plain": [
       "<matplotlib.legend.Legend at 0x7fd2a0bede80>"
      ]
     },
     "execution_count": 35,
     "metadata": {},
     "output_type": "execute_result"
    },
    {
     "data": {
      "image/png": "[encoded data removed]",
      "text/plain": [
       "<Figure size 432x288 with 1 Axes>"
      ]
     },
     "metadata": {
      "needs_background": "light"
     },
     "output_type": "display_data"
    }
   ],
   "source": [
    "dataset_latam = dataset[filter_latam]\n",
    "filter_latam_2016 = dataset_latam[\"year\"] == 2016\n",
    "dataset_latam_2016 = dataset_latam[filter_2016]\n",
    "\n",
    "\n",
    "filter_2016 = dataset[\"year\"] == 2016\n",
    "dataset_2016 = dataset[filter_2016]\n",
    "\n",
    "\n",
    "seaborn.distplot(dataset_latam_2016[['pf_identity']],label=\"pf_identity Latam\")\n",
    "seaborn.distplot(dataset_2016[[\"pf_identity\"]].dropna(),label=\"pf_identity World\")\n",
    "plt.legend()"
   ]
  },
  {
   "cell_type": "markdown",
   "metadata": {},
   "source": [
    "Cuando estábamos observando *outliers* en el diagrama boxplot, podíamos observar que la variable *pf_identity* practicamente tenia valores entre 8 y 10 (el máximo del su rago). Ahora podemos ver que estas dos distrituciones concentran moda en 10, ademas de tener una clara asimetria negativa. Visualmente vemos que ambas se comportan como una distribucion normal con un muy notorio sesgo negativo (Left-skewed distributions)."
   ]
  },
  {
   "cell_type": "markdown",
   "metadata": {},
   "source": [
    "##### *hf_score* para Latinoamerica vs Global"
   ]
  },
  {
   "cell_type": "code",
   "execution_count": 37,
   "metadata": {},
   "outputs": [
    {
     "data": {
      "text/plain": [
       "<matplotlib.legend.Legend at 0x7fd2a0a0f860>"
      ]
     },
     "execution_count": 37,
     "metadata": {},
     "output_type": "execute_result"
    },
    {
     "data": {
      "image/png": "[encoded data removed]",
      "text/plain": [
       "<Figure size 432x288 with 1 Axes>"
      ]
     },
     "metadata": {
      "needs_background": "light"
     },
     "output_type": "display_data"
    }
   ],
   "source": [
    "seaborn.distplot(dataset_latam_2016[['hf_score']].dropna(), label=\"pf_identity Latam\")\n",
    "seaborn.distplot(dataset_2016[['hf_score']].dropna(), label=\"pf_identity World\")\n",
    "plt.legend()"
   ]
  },
  {
   "cell_type": "markdown",
   "metadata": {},
   "source": [
    "Para el caso de hf_score, notamos que la distribución tiene un comportamiento Multimodal para le caso Global y leptokurtica para Latinoamerica y Caribe. Vamos a extender un poco el análisis para determinar si podemos hacer alguna observacion mas específica sobre el caso *hf_score* en Global.\n",
    "- Mirando un poco los diagramas de boxplot, podemos observar el comportamiento por region de la variable hf_score\n"
   ]
  },
  {
   "cell_type": "code",
   "execution_count": null,
   "metadata": {
    "scrolled": true
   },
   "outputs": [],
   "source": [
    "#Algunas configuraciones para el grafico\n",
    "plt.subplots(1,1, figsize=(20,5))\n",
    "\n",
    "#solo hf_score y region, sin NaN\n",
    "region = dataset[['region', \"year\", 'hf_score']].dropna()\n",
    "\n",
    "#Acomodamos los datos para que podamos a\n",
    "#df_long = pandas.melt(region, \"year\",var_name=\"hf_score\" , value_name=\"score\")\n",
    "\n",
    "g = seaborn.boxplot(\"region\", y=\"hf_score\", data=region)\n",
    "plt.xticks(rotation=5)\n"
   ]
  },
  {
   "cell_type": "markdown",
   "metadata": {},
   "source": [
    "Podemos observar que para las regiones *Estearn Europe* *Western Europe* *North America*, los datos estan muy cerca de su media, con muy poca dispersion.\n",
    "\n",
    "Sepáramos estas regiones y las comparamos con el resto, superponiendo los histogramas."
   ]
  },
  {
   "cell_type": "code",
   "execution_count": null,
   "metadata": {},
   "outputs": [],
   "source": [
    "eastern_europe = \"Eastern Europe\"\n",
    "western_europe = \"Western Europe\"\n",
    "north_america = \"North America\"\n",
    "\n",
    "filter_ee = dataset[\"region\"] == eastern_europe\n",
    "filter_na = dataset[\"region\"] == north_america\n",
    "filter_western_europe = dataset[\"region\"] == western_europe\n",
    "\n",
    "no_europe_and_na = dataset[ ~( filter_ee | filter_western_europe | filter_na ) ]\n",
    "europe_and_na = dataset[ ( filter_ee | filter_western_europe | filter_na ) ]\n",
    "\n",
    "#juntamos los histogramas con la idea de poder ver si hay alguna relacion.\n",
    "seaborn.distplot(no_europe_and_na[['hf_score']].dropna(),  label='Workd without Europe and NA')\n",
    "seaborn.distplot(europe_and_na[['hf_score']].dropna(),  label='Europe and NA')\n",
    "seaborn.distplot(dataset[['hf_score']].dropna(),  label='All World')\n",
    "plt.legend()"
   ]
  },
  {
   "cell_type": "markdown",
   "metadata": {},
   "source": [
    "Para Global, la distribucion es multimodal y por lo observado podemos suponer es es una mixtura entre dos distribuciones normales."
   ]
  },
  {
   "cell_type": "markdown",
   "metadata": {},
   "source": [
    "El caos de la variable *hf_score* si bien comparado con *pf_identity* la asimetria no es tan marcada, se puede observar a simple vista, que America Latina y Caribe tiene una asimetria negativa y mayor cutosis. Para este caso ambas distribuciones son semejantes a una normal. "
   ]
  },
  {
   "cell_type": "markdown",
   "metadata": {},
   "source": [
    "#### 2. Realizar una prueba de Kolmogorov-Smirnof para comprobar analíticamente si estas variables responden la distribución propuesta en el ejercicio anterior. Hint: podés usar https://docs.scipy.org/doc/scipy-0.14.0/reference/generated/scipy.stats.kstest.html, pero hay que tener en cuenta que si la distribución es \"norm\", entonces va a comparar los datos con una distribución normal con media 0 y desviación estándar 1. Se puede utilizar la distribución sobre todos los datos o sólo sobre Latinoamérica."
   ]
  },
  {
   "cell_type": "code",
   "execution_count": 46,
   "metadata": {},
   "outputs": [
    {
     "name": "stderr",
     "output_type": "stream",
     "text": [
      "/home/sgalan/anaconda3/envs/diplodatos/lib/python3.6/site-packages/ipykernel_launcher.py:15: UserWarning: Boolean Series key will be reindexed to match DataFrame index.\n",
      "  from ipykernel import kernelapp as app\n"
     ]
    }
   ],
   "source": [
    "def test_hipotesis(D, p, alpha, label):\n",
    "    validate = (p < alpha)\n",
    "    print(\"Para \" + label + \":\")\n",
    "    if validate:\n",
    "        print (\"Hipotesis nula puede ser rechazada\")\n",
    "    else:\n",
    "        print (\"Hipotesis nula NO puede ser rechazada\")\n",
    "\n",
    "    return validate\n",
    "#estandarizar nuestras distribuciones\n",
    "alpha=0.05\n",
    "\n",
    "hf_score_latam = dataset_latam_2016['hf_score'].dropna()\n",
    "hf_score_world = dataset_2016[['hf_score']].dropna()\n",
    "pf_identity_latam = dataset_latam_2016[filter_latam]['pf_identity'].dropna()\n",
    "pf_identity_world = dataset_2016[['pf_identity']].dropna()"
   ]
  },
  {
   "cell_type": "code",
   "execution_count": 53,
   "metadata": {},
   "outputs": [
    {
     "name": "stdout",
     "output_type": "stream",
     "text": [
      "Para hf_score_latam:\n",
      "Hipotesis nula puede ser rechazada\n",
      "6.95430524026923 0.7051864517555796\n"
     ]
    }
   ],
   "source": [
    "D, p = stats.kstest(hf_score_latam, 'norm')\n",
    "test_hipotesis(D, p, alpha, 'hf_score_latam')\n",
    "print(hf_score_latam.mean(),hf_score_latam.std())"
   ]
  },
  {
   "cell_type": "markdown",
   "metadata": {},
   "source": [
    "- El Test de KS descarta la posibilidad de que el conjunto de datos de muestra de la variable hf_score_latam hayan sido creado \n",
    "- por una distribucion teorica de probabilidad Normal con media y desvio muestral\n"
   ]
  },
  {
   "cell_type": "code",
   "execution_count": 51,
   "metadata": {},
   "outputs": [
    {
     "name": "stdout",
     "output_type": "stream",
     "text": [
      "Para hf_score_world:\n",
      "Hipotesis nula puede ser rechazada\n",
      "hf_score    6.889871\n",
      "dtype: float64 hf_score    1.079601\n",
      "dtype: float64\n"
     ]
    }
   ],
   "source": [
    "D, p = stats.kstest(stats.zscore(hf_score_world),'norm')\n",
    "test_hipotesis(D, p, alpha, 'hf_score_world')\n",
    "print(hf_score_world.mean(),hf_score_world.std())"
   ]
  },
  {
   "cell_type": "markdown",
   "metadata": {},
   "source": [
    "- El Test de KS descarta la posibilidad de que el conjunto de datos de muestra de la variable hf_score_world hayan sido creado \n",
    "- por una distribucion teorica de probabilidad Normal con media y desvio muestral."
   ]
  },
  {
   "cell_type": "code",
   "execution_count": 41,
   "metadata": {},
   "outputs": [
    {
     "name": "stdout",
     "output_type": "stream",
     "text": [
      "Para pf_identity_latam:\n",
      "Hipotesis nula puede ser rechazada\n",
      "0.3513672528496658 4.08023938470139e-26\n",
      "8.765086206909483 1.7117319741534658\n"
     ]
    }
   ],
   "source": [
    "D, p = stats.kstest(stats.zscore(pf_identity_latam),'norm')\n",
    "test_hipotesis(D, p, alpha, 'pf_identity_latam')\n",
    "print(pf_identity_latam.mean(),pf_identity_latam.std())"
   ]
  },
  {
   "cell_type": "markdown",
   "metadata": {},
   "source": [
    "- El Test de KS descarta la posibilidad de que el conjunto de datos de muestra de la variable pf_identity_latam hayan sido creado \n",
    "- por una distribucion teorica de probabilidad Normal con media y desvio muestral."
   ]
  },
  {
   "cell_type": "code",
   "execution_count": 42,
   "metadata": {},
   "outputs": [
    {
     "name": "stdout",
     "output_type": "stream",
     "text": [
      "Para pf_identity_world:\n",
      "Hipotesis nula puede ser rechazada\n",
      "0.9898881929872717 0.0\n",
      "pf_identity    7.33418\n",
      "dtype: float64 pf_identity    3.159473\n",
      "dtype: float64\n"
     ]
    }
   ],
   "source": [
    "D, p = stats.kstest(stats.zscore(pf_identity_world),'norm')\n",
    "test_hipotesis(D, p, alpha, 'pf_identity_world')\n",
    "print(pf_identity_world.mean(),pf_identity_world.std())"
   ]
  },
  {
   "cell_type": "markdown",
   "metadata": {},
   "source": [
    "- El Test de KS descarta la posibilidad de que el conjunto de datos de muestra de la variable pf_identity_world hayan sido creado \n",
    "- por una distribucion teorica de probabilidad Normal con media y desvio muestral."
   ]
  },
  {
   "cell_type": "markdown",
   "metadata": {},
   "source": [
    "####  3. Realizar un gráfico QQ de las mismas distribuciones. Se puede utilizar a,bas distribuciones sobre todos los datos o sólo sobre Latinoamérica, pero no cruzadas."
   ]
  },
  {
   "cell_type": "code",
   "execution_count": null,
   "metadata": {},
   "outputs": [],
   "source": [
    "def normal_with_same_params(dataset):\n",
    "    return numpy.random.normal(dataset.mean(), dataset.std(), dataset.shape[0])\n",
    "\n",
    "def qqplot(dataset_x, dataset_y):\n",
    "    percs= numpy.linspace(0,100,dataset_x.shape[0] )\n",
    "    qn_a = numpy.percentile(dataset_x, percs)\n",
    "    qn_b = numpy.percentile(dataset_y, percs)\n",
    "    \n",
    "    line_start = numpy.min((qn_a.min(), qn_b.min()))\n",
    "    line_end = numpy.max((qn_a.max(), qn_b.max()))\n",
    "    \n",
    "    plt.scatter(qn_a, qn_b, alpha=0.5)\n",
    "\n",
    "    x = numpy.linspace(line_start, line_end )\n",
    "    plt.plot(x,x, color=\"k\", ls=\"--\")\n",
    "    plt.xlabel('Percentiles de la muestra')\n",
    "    plt.ylabel('Percentiles de la distribución normal')\n",
    "    plt.title('Distribusion entre la variable y relacion con una normal')\n",
    "\n",
    "#let_normal = normal_with_same_params(hf_score_latam)\n",
    "#qqplot(stats.zscore(pf_identity_latam), stats.zscore(hf_score_latam), percs)\n",
    "plt.figure(figsize=(5,5))\n",
    "let_normal = normal_with_same_params(hf_score_latam)\n",
    "qqplot(let_normal, hf_score_latam)"
   ]
  },
  {
   "cell_type": "code",
   "execution_count": null,
   "metadata": {},
   "outputs": [],
   "source": [
    "plt.figure(figsize=(5,5))\n",
    "let_normal = normal_with_same_params(hf_score_world)\n",
    "qqplot(let_normal, hf_score_latam)"
   ]
  },
  {
   "cell_type": "code",
   "execution_count": null,
   "metadata": {},
   "outputs": [],
   "source": [
    "plt.figure(figsize=(5,5))\n",
    "let_normal = normal_with_same_params(pf_identity_latam)\n",
    "qqplot(let_normal, pf_identity_latam)\n"
   ]
  },
  {
   "cell_type": "code",
   "execution_count": null,
   "metadata": {
    "scrolled": true
   },
   "outputs": [],
   "source": [
    "plt.figure(figsize=(5,5))\n",
    "let_normal = normal_with_same_params(pf_identity_world)\n",
    "qqplot(let_normal, pf_identity_world)"
   ]
  },
  {
   "cell_type": "markdown",
   "metadata": {},
   "source": [
    "#### 4. Medir la asimetría (skew) y curtosis de las mismas distribuciones con las que realizó el gráfico anterior. ¿Cómo se relacionan estos estadísticos con la forma del gráfico QQ obtenido previamente? ¿El gráfico QQ provee más información que no esté presente en estos estadísticos?"
   ]
  },
  {
   "cell_type": "markdown",
   "metadata": {},
   "source": [
    "#### Creamos los filtros para las correspondientes variables.\n"
   ]
  },
  {
   "cell_type": "code",
   "execution_count": null,
   "metadata": {},
   "outputs": [],
   "source": [
    "#m, v, s, k = stats.t.stats(10, moments='mvsk')\n",
    "n, (smin, smax), sm, sv, ss, sk = stats.describe(hf_score_latam)\n",
    "print(stats.describe(hf_score_latam))\n",
    "sstr = '%-14s mean = %6.4f, variance = %6.4f, skew = %6.4f, kurtosis = %6.4f'\n",
    "print(sstr % ('distribution:', sm, sv, ss ,sk))\n",
    "\n",
    "print(stats.kurtosistest(hf_score_latam))\n",
    "print(stats.skewtest(hf_score_latam))"
   ]
  },
  {
   "cell_type": "markdown",
   "metadata": {},
   "source": [
    "- Se observa que la variable hf_score_latam posee un leve sesgo hacia la derecha y una cola mas corta de la norma debido a su forma leptocurtica.\n",
    "- En relacion a los estadistico de Kurtosis y Sesgo se puede concluir que la razon estadistico/ error estandar estan fuera del rango (-2,2) y por lo tanto se descarta la hipotesis de normalidad."
   ]
  },
  {
   "cell_type": "code",
   "execution_count": null,
   "metadata": {},
   "outputs": [],
   "source": [
    "#m, v, s, k = stats.t.stats(10, moments='mvsk')\n",
    "n, (smin, smax), sm, sv, ss, sk = stats.describe(hf_score_world)\n",
    "print(stats.describe(hf_score_world))\n",
    "sstr = '%-14s mean = %6.4f, variance = %6.4f, skew = %6.4f, kurtosis = %6.4f'\n",
    "print(sstr % ('distribution:', sm, sv, ss ,sk))\n",
    "\n",
    "print(stats.kurtosistest(hf_score_world))\n",
    "print(stats.skewtest(hf_score_world))"
   ]
  },
  {
   "cell_type": "markdown",
   "metadata": {},
   "source": [
    "- Se observa que la variable hf_score posee un sesgo hacia la izquierda y una cola mas larga de la norma. En relacion a los estadisticos\n",
    "- de Kurtosis y Sesgo se puede concluir que la razon estadistico/ error estandar estan fuera del rango (-2,2) y por lo tanto se descarta la hipotesis de normalidad.\n"
   ]
  },
  {
   "cell_type": "code",
   "execution_count": null,
   "metadata": {},
   "outputs": [],
   "source": [
    "n, (smin, smax), sm, sv, ss, sk = stats.describe(pf_identity_latam)\n",
    "print(stats.describe(pf_identity_latam))\n",
    "sstr = '%-14s mean = %6.4f, variance = %6.4f, skew = %6.4f, kurtosis = %6.4f'\n",
    "print(sstr % ('distribution:', sm, sv, ss ,sk))\n",
    "\n",
    "print(stats.kurtosistest(pf_identity_latam))\n",
    "print(stats.skewtest(pf_identity_latam))"
   ]
  },
  {
   "cell_type": "markdown",
   "metadata": {},
   "source": [
    "- Se observa que la variable pf_identity_latam posee un claro sesgo hacia la izquierda y sin indicios de anormalidades en las colas. \n",
    "- El test de Sesgo indica que la razon estadistico/error esta fuera del rango permitido (-2,2) y por lo tanto se descarta la hipotesis de normalidad."
   ]
  },
  {
   "cell_type": "code",
   "execution_count": null,
   "metadata": {},
   "outputs": [],
   "source": [
    "n, (smin, smax), sm, sv, ss, sk = stats.describe(pf_identity_world)\n",
    "print(stats.describe(pf_identity_world))\n",
    "sstr = '%-14s mean = %6.4f, variance = %6.4f, skew = %6.4f, kurtosis = %6.4f'\n",
    "print(sstr % ('distribution:', sm, sv, ss ,sk))\n",
    "\n",
    "print(stats.kurtosistest(pf_identity_world))\n",
    "print(stats.skewtest(pf_identity_world))"
   ]
  },
  {
   "cell_type": "markdown",
   "metadata": {},
   "source": [
    "\n",
    "- Se observa que la variable pf_identity posee un sesgo hacia la izquierda y una cola mas larga de la norma. En relacion a los estadisticos\n",
    "- De Kurtosis y Sesgo se puede concluir que la razon estadistico/ error estandar estan fuera del rango (-2,2) y por lo tanto se descarta la hipotesis de normalidad.\n"
   ]
  },
  {
   "cell_type": "markdown",
   "metadata": {},
   "source": [
    "## 3. Correlaciones\n",
    "\n",
    "En este ejercicio queremos responder a las preguntas\n",
    "\n",
    "* Las libertades sociales y económicas, ¿van siempre de la mano?\n",
    "* ¿Cómo se relacionan ambas con las libertades individuales y respectivas a las relaciones personales?\n",
    "\n",
    "Para ello, analizaremos las correlaciones entre las variables pf_identity, hf_score y ef_score. \n",
    "\n",
    "Como pf_indentity contribuye al cálculo de hf_score y ef_score, esperamos hallar algún grado de correlación. Sin embargo, queremos medir qué tanta correlación. "
   ]
  },
  {
   "cell_type": "markdown",
   "metadata": {},
   "source": [
    "#### 1. ¿Qué conclusiones puede sacar de un gráfico pairplot de estas tres variables? ¿Es adecuado para los valores de pf_identity? ¿Por qué?"
   ]
  },
  {
   "cell_type": "markdown",
   "metadata": {},
   "source": [
    "Graficamos la correlacion entre pf_identity y hf_score"
   ]
  },
  {
   "cell_type": "code",
   "execution_count": null,
   "metadata": {},
   "outputs": [],
   "source": [
    "seaborn.pairplot(data=dataset, plot_kws = {'alpha': 0.6, 's': 30, 'edgecolor': 'k'}, vars=['pf_identity', 'hf_score', 'ef_score'], height=4)\n",
    "seaborn.despine()"
   ]
  },
  {
   "cell_type": "markdown",
   "metadata": {},
   "source": [
    "- Notamos que *hf_score* y *ef_score* tienen una correlacion positiva, lo que nos indica que hay una relacion entre ellas, lamentablemente para *pf_identity* no podemos inferir mucho a primera vista, los graficos no muestran correlacion alguna. No podemos concluir ninguna tendencia en relacion a *hf_score* o *ef_score*"
   ]
  },
  {
   "cell_type": "markdown",
   "metadata": {},
   "source": [
    "#### 2. Graficar la correlación entre pf_identity y hf_score; y entre pf_identity y ef_score. Analizar el resultado, ¿se pueden sacar conclusiones? Tengan en cuenta que como pf_identity es el resultado de un promedio, sólo toma algunos valores. Es, en efecto, discreta."
   ]
  },
  {
   "cell_type": "markdown",
   "metadata": {},
   "source": [
    "Graficamos la correlacion entre *hf_score* y *pf_identity*. \n",
    "Sin agregar mayor complegidad, vamos a agrupar los puntos por region."
   ]
  },
  {
   "cell_type": "code",
   "execution_count": null,
   "metadata": {},
   "outputs": [],
   "source": [
    "plt.figure(figsize=(17,6))\n",
    "seaborn.scatterplot(data=dataset,x='pf_identity',y='hf_score', hue = 'region')\n",
    "seaborn.despine()\n",
    "plt.legend(loc='lower center', bbox_to_anchor=(0.5, 1.05),\n",
    "          ncol=3, fancybox=True, shadow=True)"
   ]
  },
  {
   "cell_type": "markdown",
   "metadata": {},
   "source": [
    "A primer vista los graficos no parecen demasiado diferentes. Observamos que los puntajes mas bajos tanto de ef_score como de hf_score se dan en paises donde pf_identity es alto, con un par de valores aislados en 7,5."
   ]
  },
  {
   "cell_type": "markdown",
   "metadata": {},
   "source": [
    "Hacemos lo mismo con la correlacion entre ef_score y pf_identity."
   ]
  },
  {
   "cell_type": "code",
   "execution_count": null,
   "metadata": {},
   "outputs": [],
   "source": [
    "fig = plt.figure(figsize=(17,6))\n",
    "seaborn.scatterplot(data=dataset,x='pf_identity',y='ef_score', hue = 'region')\n",
    "seaborn.despine()\n",
    "plt.legend(loc='lower center', bbox_to_anchor=(0.5, 1.05),\n",
    "          ncol=3, fancybox=True, shadow=True)\n"
   ]
  },
  {
   "cell_type": "markdown",
   "metadata": {},
   "source": [
    "En este caso tampoco vemos correlaciones positivas ni negativas, con lo cual no podemos concluir que haya una relacion directa."
   ]
  },
  {
   "cell_type": "markdown",
   "metadata": {},
   "source": [
    "#### 3. Calcular algún coeficiente de correlación adecuado entre los dos pares de variables, dependiendo de la cantidad de datos, el tipo de datos y la distribución de los mismo. Algunas opciones son: coeficiente de pearson, coeficiente de spearman, coeficientes de tau y de kendall. Interpretar los resultados y justificar si las variables están correlacionadas o no."
   ]
  },
  {
   "cell_type": "code",
   "execution_count": null,
   "metadata": {},
   "outputs": [],
   "source": [
    "from scipy.stats import spearmanr\n",
    "\n",
    "pf_identity = dataset[[\"pf_identity\"]].dropna()\n",
    "hf_score = dataset[[\"hf_score\"]].dropna()\n",
    "ef_score =  dataset[[\"ef_score\"]].dropna()\n",
    "alpha = 0.05\n",
    "    \n",
    "def correlation_spearmanr(x,y, alpha):\n",
    "    corr, p_value = spearmanr(x, y)\n",
    "    print(corr, p_value)\n",
    "   \n",
    "    if p_value > alpha:\n",
    "        print('no estan correlacionadas (no se pude rechazar H0) p=%.3f' % p_value)\n",
    "    else:\n",
    "        print('correlacionadas (rechazar H0) p=%.3f' % p_value)\n",
    "    \n",
    "correlation_spearmanr(pf_identity, hf_score, alpha)\n",
    "correlation_spearmanr(pf_identity, ef_score, alpha)\n",
    "correlation_spearmanr(hf_score, ef_score, alpha)"
   ]
  },
  {
   "cell_type": "markdown",
   "metadata": {},
   "source": [
    "Utilizando spearmanr vemos que para los casos de combinación de estas variable, no se puede rechazar la hipotesis de que \"no existe correlacion entre esas dos variables\". En la documentacion de esta funcion https://docs.scipy.org/doc/scipy-0.14.0/reference/generated/scipy.stats.spearmanr.html hay una nota que expresa que el valor *p-values* no es del todo confiable si la muestra no es mas grande de 500. \n",
    "Probamos con Pearson y estandarizamos las variables para ver analizar su correlacion. \n",
    "Notar que el valor estadistico de *hf_score* vs *ef_score* es positivo y cercano a 1, lo cual nos dice que la relacon es creciente (si una variable sube, la otra tambien) "
   ]
  },
  {
   "cell_type": "code",
   "execution_count": null,
   "metadata": {},
   "outputs": [],
   "source": [
    "from scipy.stats import pearsonr\n",
    "\n",
    "pf_identity = dataset[[\"pf_identity\"]].dropna()\n",
    "hf_score = dataset[[\"hf_score\"]].dropna()\n",
    "ef_score =  dataset[[\"ef_score\"]].dropna()\n",
    "alpha = 0.05\n",
    "    \n",
    "def correlation_pearsonr(x,y, alpha):\n",
    "    corr, p_value = pearsonr(x, y)\n",
    "    print(corr, p_value)\n",
    "   \n",
    "    if p_value > alpha:\n",
    "        print('no estan correlacionadas (no se pude rechazar H0) p=%.3f' % p_value)\n",
    "    else:\n",
    "        print('correlacionadas (rechazar H0) p=%.3f' % p_value)\n",
    "    \n",
    "correlation_pearsonr(stats.zscore(pf_identity), stats.zscore(hf_score), alpha)\n",
    "correlation_pearsonr(stats.zscore(pf_identity), stats.zscore(ef_score), alpha)\n",
    "correlation_pearsonr(stats.zscore(hf_score), stats.zscore(ef_score), alpha)"
   ]
  },
  {
   "cell_type": "markdown",
   "metadata": {},
   "source": [
    "Para este caso, podemos tomar a Pearson como una medida de que tan proporcional es una variable con respecto a otra. Para este caso notamos que hf_score y ef_score tienen un valor sercano a 1, lo cual justifica la linealidad de puntos que observamos en el grafico de mas arriba.\n",
    "Un detalles es el valor que le da a pf_identity vs hf_score. Recordemos que para calcular con *hf_score*, se utiliza el valor de *pf_identity*. Si a su vez vemos que la relacion con *ef_score* es lineal, entonces hay un indicio que las libertades sociales y económicas estan relacioanas."
   ]
  },
  {
   "cell_type": "markdown",
   "metadata": {},
   "source": [
    "#### 4. [Opcional] Analizar la correlación entre la region y el hf_score (y/o el ef_score); y entre la region y el pf_identity. Considerar que como la variable *region* es ordinal, debe utilizarse algún tipo de test. Explicar cuáles son los requisitos necesarios para la aplicación de ese test. (Si no se cumplieran, se pueden agregar algunos datos para generar más registros)"
   ]
  }
 ],
 "metadata": {
  "kernelspec": {
   "display_name": "Python 3",
   "language": "python",
   "name": "python3"
  },
  "language_info": {
   "codemirror_mode": {
    "name": "ipython",
    "version": 3
   },
   "file_extension": ".py",
   "mimetype": "text/x-python",
   "name": "python",
   "nbconvert_exporter": "python",
   "pygments_lexer": "ipython3",
   "version": "3.6.8"
  }
 },
 "nbformat": 4,
 "nbformat_minor": 2
}
