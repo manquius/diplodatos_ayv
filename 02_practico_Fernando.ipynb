{
 "cells": [
  {
   "cell_type": "markdown",
   "metadata": {},
   "source": [
    "<center>\n",
    "<h4>Universidad Nacional de Córdoba - Facultad de Matemática, Astronomía, Física y Computación</h4>\n",
    "<h3>Diplomatura en Ciencia de Datos, Aprendizaje Automático y sus Aplicaciones</h3>\n",
    "</center>"
   ]
  },
  {
   "cell_type": "markdown",
   "metadata": {},
   "source": [
    "<h1> Práctico I - Estadística </h1>\n",
    "<h3> Análisis y Visualización de Datos - 2019 </h3>\n",
    "\n",
    "Durante este práctico vamos a trabajar sobre el dataset [Human Freedom Index 2018](https://www.cato.org/human-freedom-index-new) de el instituto Cato. Este índice mide en detalle lo que entendemos como libertad, utilizando 79 indicadores de libertad personal y económica en distintos aspectos, hasta obtener un hermoso numerito del 1 al 10. Usaremos una [versión ya limpia del dataset](https://www.kaggle.com/gsutters/the-human-freedom-index/home) que pueden descargar desde Kaggle.\n",
    "\n",
    "Las variables más importantes sobre las que trabaja el dataset son:\n",
    "\n",
    "* Rule of Law\n",
    "* Security and Safety\n",
    "* Movement\n",
    "* Religion\n",
    "* Association, Assembly, and Civil Society\n",
    "* Expression and Information\n",
    "* Identity and Relationships\n",
    "* Size of Government\n",
    "* Legal System and Property Rights\n",
    "* Access to Sound Money\n",
    "* Freedom to Trade Internationally\n",
    "* Regulation of Credit, Labor, and Business\n",
    "\n",
    "Nosotros centrarermos nuestro análisis en variables relacionadas a *Identity and Relationships* en paises de Latinoamérica, y los compararemos con las estadísticas globales. La pregunta a responder es simple: **¿Qué niveles de libertad se viven en Latinoamérica, especificamente en cuanto libertades de indentidad?**. Sin embargo, para hacer un análisis de los datos tenemos que platear también estas sub preguntas:\n",
    "\n",
    "1. ¿Qué significa tener un puntaje de 4.5? Hay que poner los puntajes de la región en contexto con los datos del resto del mundo.\n",
    "2. ¿Cuál es la tendencia a lo largo de los años? ¿Estamos mejorando, empeorando?\n",
    "3. En este estudio, la libertad se mide con dos estimadores principales: *hf_score* que hace referencia a Human Freedom, y *ef_score* que hace referencia a Economic Freedom. Estos dos estimadores, ¿se relacionan de la misma manera con la libertad de identidad?\n",
    "\n",
    "Inicialmente, en toda exploración de datos tenemos muy poca información a priori sobre el significado de los datos y tenemos que empezar por comprenderlos. Les proponemos los siguientes ejercicios como guía para comenzar esta exploración."
   ]
  },
  {
   "cell_type": "code",
   "execution_count": 1,
   "metadata": {},
   "outputs": [],
   "source": [
    "import matplotlib.pyplot as plt\n",
    "import numpy\n",
    "import pandas\n",
    "import seaborn"
   ]
  },
  {
   "cell_type": "code",
   "execution_count": 2,
   "metadata": {},
   "outputs": [
    {
     "data": {
      "text/plain": [
       "'0.9.0'"
      ]
     },
     "execution_count": 2,
     "metadata": {},
     "output_type": "execute_result"
    }
   ],
   "source": [
    "seaborn.__version__"
   ]
  },
  {
   "cell_type": "code",
   "execution_count": 3,
   "metadata": {},
   "outputs": [
    {
     "data": {
      "text/plain": [
       "(1458, 123)"
      ]
     },
     "execution_count": 3,
     "metadata": {},
     "output_type": "execute_result"
    }
   ],
   "source": [
    "dataset = pandas.read_csv('datasets/hfi_cc_2018.csv')\n",
    "dataset.shape"
   ]
  },
  {
   "cell_type": "code",
   "execution_count": 4,
   "metadata": {},
   "outputs": [
    {
     "data": {
      "text/plain": [
       "Index(['year', 'ISO_code', 'countries', 'region', 'pf_rol_procedural',\n",
       "       'pf_rol_civil', 'pf_rol_criminal', 'pf_rol', 'pf_ss_homicide',\n",
       "       'pf_ss_disappearances_disap',\n",
       "       ...\n",
       "       'ef_regulation_business_bribes', 'ef_regulation_business_licensing',\n",
       "       'ef_regulation_business_compliance', 'ef_regulation_business',\n",
       "       'ef_regulation', 'ef_score', 'ef_rank', 'hf_score', 'hf_rank',\n",
       "       'hf_quartile'],\n",
       "      dtype='object', length=123)"
      ]
     },
     "execution_count": 4,
     "metadata": {},
     "output_type": "execute_result"
    }
   ],
   "source": [
    "dataset.columns  # Way too many columns!"
   ]
  },
  {
   "cell_type": "markdown",
   "metadata": {},
   "source": [
    "Por suerte las columnas tienen un prefijo que nos ayuda a identificar a qué sección pertenecen. Nos quedamos sólo con las que comienzan con *pf_indentity*, junto con otras columnas más generales"
   ]
  },
  {
   "cell_type": "code",
   "execution_count": 5,
   "metadata": {},
   "outputs": [],
   "source": [
    "important_cols = ['year', 'ISO_code', 'countries', 'region']\n",
    "\n",
    "important_cols += [col for col in dataset.columns if 'pf_identity' in col]\n",
    "\n",
    "important_cols += [\n",
    "    'ef_score', # Economic Freedom (score)\n",
    "    'ef_rank', # Economic Freedom (rank)\n",
    "    'hf_score', # Human Freedom (score)\n",
    "    'hf_rank', # Human Freedom (rank)\n",
    "]"
   ]
  },
  {
   "cell_type": "code",
   "execution_count": 6,
   "metadata": {},
   "outputs": [
    {
     "data": {
      "text/html": [
       "<div>\n",
       "<style scoped>\n",
       "    .dataframe tbody tr th:only-of-type {\n",
       "        vertical-align: middle;\n",
       "    }\n",
       "\n",
       "    .dataframe tbody tr th {\n",
       "        vertical-align: top;\n",
       "    }\n",
       "\n",
       "    .dataframe thead th {\n",
       "        text-align: right;\n",
       "    }\n",
       "</style>\n",
       "<table border=\"1\" class=\"dataframe\">\n",
       "  <thead>\n",
       "    <tr style=\"text-align: right;\">\n",
       "      <th></th>\n",
       "      <th>year</th>\n",
       "      <th>ISO_code</th>\n",
       "      <th>countries</th>\n",
       "      <th>region</th>\n",
       "      <th>pf_identity_legal</th>\n",
       "      <th>pf_identity_parental_marriage</th>\n",
       "      <th>pf_identity_parental_divorce</th>\n",
       "      <th>pf_identity_parental</th>\n",
       "      <th>pf_identity_sex_male</th>\n",
       "      <th>pf_identity_sex_female</th>\n",
       "      <th>pf_identity_sex</th>\n",
       "      <th>pf_identity_divorce</th>\n",
       "      <th>pf_identity</th>\n",
       "      <th>ef_score</th>\n",
       "      <th>ef_rank</th>\n",
       "      <th>hf_score</th>\n",
       "      <th>hf_rank</th>\n",
       "    </tr>\n",
       "  </thead>\n",
       "  <tbody>\n",
       "    <tr>\n",
       "      <th>0</th>\n",
       "      <td>2016</td>\n",
       "      <td>ALB</td>\n",
       "      <td>Albania</td>\n",
       "      <td>Eastern Europe</td>\n",
       "      <td>0.0</td>\n",
       "      <td>10.0</td>\n",
       "      <td>10.0</td>\n",
       "      <td>10.0</td>\n",
       "      <td>10.0</td>\n",
       "      <td>10.0</td>\n",
       "      <td>10.0</td>\n",
       "      <td>5.0</td>\n",
       "      <td>6.250000</td>\n",
       "      <td>7.54</td>\n",
       "      <td>34.0</td>\n",
       "      <td>7.568140</td>\n",
       "      <td>48.0</td>\n",
       "    </tr>\n",
       "    <tr>\n",
       "      <th>1</th>\n",
       "      <td>2016</td>\n",
       "      <td>DZA</td>\n",
       "      <td>Algeria</td>\n",
       "      <td>Middle East &amp; North Africa</td>\n",
       "      <td>NaN</td>\n",
       "      <td>0.0</td>\n",
       "      <td>5.0</td>\n",
       "      <td>2.5</td>\n",
       "      <td>0.0</td>\n",
       "      <td>0.0</td>\n",
       "      <td>0.0</td>\n",
       "      <td>0.0</td>\n",
       "      <td>0.833333</td>\n",
       "      <td>4.99</td>\n",
       "      <td>159.0</td>\n",
       "      <td>5.135886</td>\n",
       "      <td>155.0</td>\n",
       "    </tr>\n",
       "    <tr>\n",
       "      <th>2</th>\n",
       "      <td>2016</td>\n",
       "      <td>AGO</td>\n",
       "      <td>Angola</td>\n",
       "      <td>Sub-Saharan Africa</td>\n",
       "      <td>10.0</td>\n",
       "      <td>10.0</td>\n",
       "      <td>10.0</td>\n",
       "      <td>10.0</td>\n",
       "      <td>0.0</td>\n",
       "      <td>0.0</td>\n",
       "      <td>0.0</td>\n",
       "      <td>10.0</td>\n",
       "      <td>7.500000</td>\n",
       "      <td>5.17</td>\n",
       "      <td>155.0</td>\n",
       "      <td>5.640662</td>\n",
       "      <td>142.0</td>\n",
       "    </tr>\n",
       "    <tr>\n",
       "      <th>3</th>\n",
       "      <td>2016</td>\n",
       "      <td>ARG</td>\n",
       "      <td>Argentina</td>\n",
       "      <td>Latin America &amp; the Caribbean</td>\n",
       "      <td>10.0</td>\n",
       "      <td>10.0</td>\n",
       "      <td>10.0</td>\n",
       "      <td>10.0</td>\n",
       "      <td>10.0</td>\n",
       "      <td>10.0</td>\n",
       "      <td>10.0</td>\n",
       "      <td>10.0</td>\n",
       "      <td>10.000000</td>\n",
       "      <td>4.84</td>\n",
       "      <td>160.0</td>\n",
       "      <td>6.469848</td>\n",
       "      <td>107.0</td>\n",
       "    </tr>\n",
       "    <tr>\n",
       "      <th>4</th>\n",
       "      <td>2016</td>\n",
       "      <td>ARM</td>\n",
       "      <td>Armenia</td>\n",
       "      <td>Caucasus &amp; Central Asia</td>\n",
       "      <td>7.0</td>\n",
       "      <td>10.0</td>\n",
       "      <td>10.0</td>\n",
       "      <td>10.0</td>\n",
       "      <td>10.0</td>\n",
       "      <td>10.0</td>\n",
       "      <td>10.0</td>\n",
       "      <td>5.0</td>\n",
       "      <td>8.000000</td>\n",
       "      <td>7.57</td>\n",
       "      <td>29.0</td>\n",
       "      <td>7.241402</td>\n",
       "      <td>57.0</td>\n",
       "    </tr>\n",
       "    <tr>\n",
       "      <th>5</th>\n",
       "      <td>2016</td>\n",
       "      <td>AUS</td>\n",
       "      <td>Australia</td>\n",
       "      <td>Oceania</td>\n",
       "      <td>7.0</td>\n",
       "      <td>10.0</td>\n",
       "      <td>10.0</td>\n",
       "      <td>10.0</td>\n",
       "      <td>10.0</td>\n",
       "      <td>10.0</td>\n",
       "      <td>10.0</td>\n",
       "      <td>10.0</td>\n",
       "      <td>9.250000</td>\n",
       "      <td>7.98</td>\n",
       "      <td>10.0</td>\n",
       "      <td>8.582219</td>\n",
       "      <td>4.0</td>\n",
       "    </tr>\n",
       "    <tr>\n",
       "      <th>6</th>\n",
       "      <td>2016</td>\n",
       "      <td>AUT</td>\n",
       "      <td>Austria</td>\n",
       "      <td>Western Europe</td>\n",
       "      <td>10.0</td>\n",
       "      <td>10.0</td>\n",
       "      <td>10.0</td>\n",
       "      <td>10.0</td>\n",
       "      <td>10.0</td>\n",
       "      <td>10.0</td>\n",
       "      <td>10.0</td>\n",
       "      <td>10.0</td>\n",
       "      <td>10.000000</td>\n",
       "      <td>7.58</td>\n",
       "      <td>27.0</td>\n",
       "      <td>8.413474</td>\n",
       "      <td>16.0</td>\n",
       "    </tr>\n",
       "    <tr>\n",
       "      <th>7</th>\n",
       "      <td>2016</td>\n",
       "      <td>AZE</td>\n",
       "      <td>Azerbaijan</td>\n",
       "      <td>Caucasus &amp; Central Asia</td>\n",
       "      <td>0.0</td>\n",
       "      <td>10.0</td>\n",
       "      <td>10.0</td>\n",
       "      <td>10.0</td>\n",
       "      <td>10.0</td>\n",
       "      <td>10.0</td>\n",
       "      <td>10.0</td>\n",
       "      <td>5.0</td>\n",
       "      <td>6.250000</td>\n",
       "      <td>6.49</td>\n",
       "      <td>106.0</td>\n",
       "      <td>6.083277</td>\n",
       "      <td>130.0</td>\n",
       "    </tr>\n",
       "    <tr>\n",
       "      <th>8</th>\n",
       "      <td>2016</td>\n",
       "      <td>BHS</td>\n",
       "      <td>Bahamas</td>\n",
       "      <td>Latin America &amp; the Caribbean</td>\n",
       "      <td>NaN</td>\n",
       "      <td>10.0</td>\n",
       "      <td>10.0</td>\n",
       "      <td>10.0</td>\n",
       "      <td>10.0</td>\n",
       "      <td>10.0</td>\n",
       "      <td>10.0</td>\n",
       "      <td>NaN</td>\n",
       "      <td>10.000000</td>\n",
       "      <td>7.34</td>\n",
       "      <td>49.0</td>\n",
       "      <td>7.397269</td>\n",
       "      <td>50.0</td>\n",
       "    </tr>\n",
       "    <tr>\n",
       "      <th>9</th>\n",
       "      <td>2016</td>\n",
       "      <td>BHR</td>\n",
       "      <td>Bahrain</td>\n",
       "      <td>Middle East &amp; North Africa</td>\n",
       "      <td>NaN</td>\n",
       "      <td>0.0</td>\n",
       "      <td>0.0</td>\n",
       "      <td>0.0</td>\n",
       "      <td>10.0</td>\n",
       "      <td>10.0</td>\n",
       "      <td>10.0</td>\n",
       "      <td>0.0</td>\n",
       "      <td>3.333333</td>\n",
       "      <td>7.56</td>\n",
       "      <td>30.0</td>\n",
       "      <td>6.848035</td>\n",
       "      <td>75.0</td>\n",
       "    </tr>\n",
       "    <tr>\n",
       "      <th>10</th>\n",
       "      <td>2016</td>\n",
       "      <td>BGD</td>\n",
       "      <td>Bangladesh</td>\n",
       "      <td>South Asia</td>\n",
       "      <td>0.0</td>\n",
       "      <td>0.0</td>\n",
       "      <td>0.0</td>\n",
       "      <td>0.0</td>\n",
       "      <td>0.0</td>\n",
       "      <td>10.0</td>\n",
       "      <td>5.0</td>\n",
       "      <td>0.0</td>\n",
       "      <td>1.250000</td>\n",
       "      <td>6.30</td>\n",
       "      <td>120.0</td>\n",
       "      <td>5.801300</td>\n",
       "      <td>138.0</td>\n",
       "    </tr>\n",
       "    <tr>\n",
       "      <th>11</th>\n",
       "      <td>2016</td>\n",
       "      <td>BRD</td>\n",
       "      <td>Barbados</td>\n",
       "      <td>Latin America &amp; the Caribbean</td>\n",
       "      <td>NaN</td>\n",
       "      <td>10.0</td>\n",
       "      <td>10.0</td>\n",
       "      <td>10.0</td>\n",
       "      <td>0.0</td>\n",
       "      <td>0.0</td>\n",
       "      <td>0.0</td>\n",
       "      <td>NaN</td>\n",
       "      <td>5.000000</td>\n",
       "      <td>6.43</td>\n",
       "      <td>111.0</td>\n",
       "      <td>7.068447</td>\n",
       "      <td>67.0</td>\n",
       "    </tr>\n",
       "    <tr>\n",
       "      <th>12</th>\n",
       "      <td>2016</td>\n",
       "      <td>BLR</td>\n",
       "      <td>Belarus</td>\n",
       "      <td>Eastern Europe</td>\n",
       "      <td>7.0</td>\n",
       "      <td>10.0</td>\n",
       "      <td>10.0</td>\n",
       "      <td>10.0</td>\n",
       "      <td>10.0</td>\n",
       "      <td>10.0</td>\n",
       "      <td>10.0</td>\n",
       "      <td>5.0</td>\n",
       "      <td>8.000000</td>\n",
       "      <td>6.23</td>\n",
       "      <td>123.0</td>\n",
       "      <td>6.144514</td>\n",
       "      <td>128.0</td>\n",
       "    </tr>\n",
       "    <tr>\n",
       "      <th>13</th>\n",
       "      <td>2016</td>\n",
       "      <td>BEL</td>\n",
       "      <td>Belgium</td>\n",
       "      <td>Western Europe</td>\n",
       "      <td>7.0</td>\n",
       "      <td>10.0</td>\n",
       "      <td>10.0</td>\n",
       "      <td>10.0</td>\n",
       "      <td>10.0</td>\n",
       "      <td>10.0</td>\n",
       "      <td>10.0</td>\n",
       "      <td>10.0</td>\n",
       "      <td>9.250000</td>\n",
       "      <td>7.32</td>\n",
       "      <td>52.0</td>\n",
       "      <td>8.153589</td>\n",
       "      <td>27.0</td>\n",
       "    </tr>\n",
       "    <tr>\n",
       "      <th>14</th>\n",
       "      <td>2016</td>\n",
       "      <td>BLZ</td>\n",
       "      <td>Belize</td>\n",
       "      <td>Latin America &amp; the Caribbean</td>\n",
       "      <td>NaN</td>\n",
       "      <td>10.0</td>\n",
       "      <td>10.0</td>\n",
       "      <td>10.0</td>\n",
       "      <td>10.0</td>\n",
       "      <td>10.0</td>\n",
       "      <td>10.0</td>\n",
       "      <td>NaN</td>\n",
       "      <td>10.000000</td>\n",
       "      <td>6.86</td>\n",
       "      <td>83.0</td>\n",
       "      <td>7.145432</td>\n",
       "      <td>64.0</td>\n",
       "    </tr>\n",
       "    <tr>\n",
       "      <th>15</th>\n",
       "      <td>2016</td>\n",
       "      <td>BEN</td>\n",
       "      <td>Benin</td>\n",
       "      <td>Sub-Saharan Africa</td>\n",
       "      <td>NaN</td>\n",
       "      <td>10.0</td>\n",
       "      <td>10.0</td>\n",
       "      <td>10.0</td>\n",
       "      <td>10.0</td>\n",
       "      <td>10.0</td>\n",
       "      <td>10.0</td>\n",
       "      <td>10.0</td>\n",
       "      <td>10.000000</td>\n",
       "      <td>5.98</td>\n",
       "      <td>134.0</td>\n",
       "      <td>6.738488</td>\n",
       "      <td>90.0</td>\n",
       "    </tr>\n",
       "    <tr>\n",
       "      <th>16</th>\n",
       "      <td>2016</td>\n",
       "      <td>BTN</td>\n",
       "      <td>Bhutan</td>\n",
       "      <td>South Asia</td>\n",
       "      <td>0.0</td>\n",
       "      <td>NaN</td>\n",
       "      <td>10.0</td>\n",
       "      <td>10.0</td>\n",
       "      <td>0.0</td>\n",
       "      <td>0.0</td>\n",
       "      <td>0.0</td>\n",
       "      <td>5.0</td>\n",
       "      <td>3.750000</td>\n",
       "      <td>7.02</td>\n",
       "      <td>73.0</td>\n",
       "      <td>6.810486</td>\n",
       "      <td>83.0</td>\n",
       "    </tr>\n",
       "    <tr>\n",
       "      <th>17</th>\n",
       "      <td>2016</td>\n",
       "      <td>BOL</td>\n",
       "      <td>Bolivia</td>\n",
       "      <td>Latin America &amp; the Caribbean</td>\n",
       "      <td>10.0</td>\n",
       "      <td>10.0</td>\n",
       "      <td>10.0</td>\n",
       "      <td>10.0</td>\n",
       "      <td>10.0</td>\n",
       "      <td>10.0</td>\n",
       "      <td>10.0</td>\n",
       "      <td>10.0</td>\n",
       "      <td>10.000000</td>\n",
       "      <td>6.23</td>\n",
       "      <td>123.0</td>\n",
       "      <td>6.718385</td>\n",
       "      <td>92.0</td>\n",
       "    </tr>\n",
       "    <tr>\n",
       "      <th>18</th>\n",
       "      <td>2016</td>\n",
       "      <td>BIH</td>\n",
       "      <td>Bosnia and Herzegovina</td>\n",
       "      <td>Eastern Europe</td>\n",
       "      <td>7.0</td>\n",
       "      <td>10.0</td>\n",
       "      <td>10.0</td>\n",
       "      <td>10.0</td>\n",
       "      <td>10.0</td>\n",
       "      <td>10.0</td>\n",
       "      <td>10.0</td>\n",
       "      <td>10.0</td>\n",
       "      <td>9.250000</td>\n",
       "      <td>6.60</td>\n",
       "      <td>98.0</td>\n",
       "      <td>7.230724</td>\n",
       "      <td>59.0</td>\n",
       "    </tr>\n",
       "    <tr>\n",
       "      <th>19</th>\n",
       "      <td>2016</td>\n",
       "      <td>BWA</td>\n",
       "      <td>Botswana</td>\n",
       "      <td>Sub-Saharan Africa</td>\n",
       "      <td>7.0</td>\n",
       "      <td>5.0</td>\n",
       "      <td>5.0</td>\n",
       "      <td>5.0</td>\n",
       "      <td>0.0</td>\n",
       "      <td>0.0</td>\n",
       "      <td>0.0</td>\n",
       "      <td>5.0</td>\n",
       "      <td>4.250000</td>\n",
       "      <td>7.43</td>\n",
       "      <td>44.0</td>\n",
       "      <td>7.153167</td>\n",
       "      <td>64.0</td>\n",
       "    </tr>\n",
       "    <tr>\n",
       "      <th>20</th>\n",
       "      <td>2016</td>\n",
       "      <td>BRA</td>\n",
       "      <td>Brazil</td>\n",
       "      <td>Latin America &amp; the Caribbean</td>\n",
       "      <td>0.0</td>\n",
       "      <td>10.0</td>\n",
       "      <td>10.0</td>\n",
       "      <td>10.0</td>\n",
       "      <td>10.0</td>\n",
       "      <td>10.0</td>\n",
       "      <td>10.0</td>\n",
       "      <td>10.0</td>\n",
       "      <td>7.500000</td>\n",
       "      <td>5.75</td>\n",
       "      <td>144.0</td>\n",
       "      <td>6.207989</td>\n",
       "      <td>123.0</td>\n",
       "    </tr>\n",
       "    <tr>\n",
       "      <th>21</th>\n",
       "      <td>2016</td>\n",
       "      <td>BRN</td>\n",
       "      <td>Brunei Darussalam</td>\n",
       "      <td>South Asia</td>\n",
       "      <td>0.0</td>\n",
       "      <td>0.0</td>\n",
       "      <td>0.0</td>\n",
       "      <td>0.0</td>\n",
       "      <td>0.0</td>\n",
       "      <td>10.0</td>\n",
       "      <td>5.0</td>\n",
       "      <td>NaN</td>\n",
       "      <td>1.666667</td>\n",
       "      <td>6.93</td>\n",
       "      <td>77.0</td>\n",
       "      <td>5.796850</td>\n",
       "      <td>138.0</td>\n",
       "    </tr>\n",
       "    <tr>\n",
       "      <th>22</th>\n",
       "      <td>2016</td>\n",
       "      <td>BGR</td>\n",
       "      <td>Bulgaria</td>\n",
       "      <td>Eastern Europe</td>\n",
       "      <td>7.0</td>\n",
       "      <td>10.0</td>\n",
       "      <td>10.0</td>\n",
       "      <td>10.0</td>\n",
       "      <td>10.0</td>\n",
       "      <td>10.0</td>\n",
       "      <td>10.0</td>\n",
       "      <td>10.0</td>\n",
       "      <td>9.250000</td>\n",
       "      <td>7.41</td>\n",
       "      <td>46.0</td>\n",
       "      <td>7.782770</td>\n",
       "      <td>41.0</td>\n",
       "    </tr>\n",
       "    <tr>\n",
       "      <th>23</th>\n",
       "      <td>2016</td>\n",
       "      <td>BFA</td>\n",
       "      <td>Burkina Faso</td>\n",
       "      <td>Sub-Saharan Africa</td>\n",
       "      <td>NaN</td>\n",
       "      <td>10.0</td>\n",
       "      <td>10.0</td>\n",
       "      <td>10.0</td>\n",
       "      <td>10.0</td>\n",
       "      <td>10.0</td>\n",
       "      <td>10.0</td>\n",
       "      <td>10.0</td>\n",
       "      <td>10.000000</td>\n",
       "      <td>6.05</td>\n",
       "      <td>129.0</td>\n",
       "      <td>6.752670</td>\n",
       "      <td>88.0</td>\n",
       "    </tr>\n",
       "    <tr>\n",
       "      <th>24</th>\n",
       "      <td>2016</td>\n",
       "      <td>BDI</td>\n",
       "      <td>Burundi</td>\n",
       "      <td>Sub-Saharan Africa</td>\n",
       "      <td>NaN</td>\n",
       "      <td>5.0</td>\n",
       "      <td>10.0</td>\n",
       "      <td>7.5</td>\n",
       "      <td>0.0</td>\n",
       "      <td>0.0</td>\n",
       "      <td>0.0</td>\n",
       "      <td>10.0</td>\n",
       "      <td>5.833333</td>\n",
       "      <td>5.92</td>\n",
       "      <td>138.0</td>\n",
       "      <td>5.167067</td>\n",
       "      <td>154.0</td>\n",
       "    </tr>\n",
       "    <tr>\n",
       "      <th>25</th>\n",
       "      <td>2016</td>\n",
       "      <td>KHM</td>\n",
       "      <td>Cambodia</td>\n",
       "      <td>South Asia</td>\n",
       "      <td>NaN</td>\n",
       "      <td>10.0</td>\n",
       "      <td>10.0</td>\n",
       "      <td>10.0</td>\n",
       "      <td>10.0</td>\n",
       "      <td>10.0</td>\n",
       "      <td>10.0</td>\n",
       "      <td>5.0</td>\n",
       "      <td>8.333333</td>\n",
       "      <td>7.17</td>\n",
       "      <td>64.0</td>\n",
       "      <td>7.204224</td>\n",
       "      <td>61.0</td>\n",
       "    </tr>\n",
       "    <tr>\n",
       "      <th>26</th>\n",
       "      <td>2016</td>\n",
       "      <td>CMR</td>\n",
       "      <td>Cameroon</td>\n",
       "      <td>Sub-Saharan Africa</td>\n",
       "      <td>NaN</td>\n",
       "      <td>10.0</td>\n",
       "      <td>10.0</td>\n",
       "      <td>10.0</td>\n",
       "      <td>0.0</td>\n",
       "      <td>0.0</td>\n",
       "      <td>0.0</td>\n",
       "      <td>5.0</td>\n",
       "      <td>5.000000</td>\n",
       "      <td>5.82</td>\n",
       "      <td>141.0</td>\n",
       "      <td>5.575387</td>\n",
       "      <td>144.0</td>\n",
       "    </tr>\n",
       "    <tr>\n",
       "      <th>27</th>\n",
       "      <td>2016</td>\n",
       "      <td>CAN</td>\n",
       "      <td>Canada</td>\n",
       "      <td>North America</td>\n",
       "      <td>7.0</td>\n",
       "      <td>10.0</td>\n",
       "      <td>10.0</td>\n",
       "      <td>10.0</td>\n",
       "      <td>10.0</td>\n",
       "      <td>10.0</td>\n",
       "      <td>10.0</td>\n",
       "      <td>10.0</td>\n",
       "      <td>9.250000</td>\n",
       "      <td>7.98</td>\n",
       "      <td>10.0</td>\n",
       "      <td>8.565863</td>\n",
       "      <td>5.0</td>\n",
       "    </tr>\n",
       "    <tr>\n",
       "      <th>28</th>\n",
       "      <td>2016</td>\n",
       "      <td>CPV</td>\n",
       "      <td>Cape Verde</td>\n",
       "      <td>Sub-Saharan Africa</td>\n",
       "      <td>NaN</td>\n",
       "      <td>NaN</td>\n",
       "      <td>NaN</td>\n",
       "      <td>NaN</td>\n",
       "      <td>10.0</td>\n",
       "      <td>10.0</td>\n",
       "      <td>10.0</td>\n",
       "      <td>NaN</td>\n",
       "      <td>10.000000</td>\n",
       "      <td>6.68</td>\n",
       "      <td>93.0</td>\n",
       "      <td>7.333292</td>\n",
       "      <td>53.0</td>\n",
       "    </tr>\n",
       "    <tr>\n",
       "      <th>29</th>\n",
       "      <td>2016</td>\n",
       "      <td>CAF</td>\n",
       "      <td>Central Afr. Rep.</td>\n",
       "      <td>Sub-Saharan Africa</td>\n",
       "      <td>NaN</td>\n",
       "      <td>5.0</td>\n",
       "      <td>5.0</td>\n",
       "      <td>5.0</td>\n",
       "      <td>10.0</td>\n",
       "      <td>10.0</td>\n",
       "      <td>10.0</td>\n",
       "      <td>10.0</td>\n",
       "      <td>8.333333</td>\n",
       "      <td>5.11</td>\n",
       "      <td>156.0</td>\n",
       "      <td>5.287816</td>\n",
       "      <td>152.0</td>\n",
       "    </tr>\n",
       "    <tr>\n",
       "      <th>...</th>\n",
       "      <td>...</td>\n",
       "      <td>...</td>\n",
       "      <td>...</td>\n",
       "      <td>...</td>\n",
       "      <td>...</td>\n",
       "      <td>...</td>\n",
       "      <td>...</td>\n",
       "      <td>...</td>\n",
       "      <td>...</td>\n",
       "      <td>...</td>\n",
       "      <td>...</td>\n",
       "      <td>...</td>\n",
       "      <td>...</td>\n",
       "      <td>...</td>\n",
       "      <td>...</td>\n",
       "      <td>...</td>\n",
       "      <td>...</td>\n",
       "    </tr>\n",
       "    <tr>\n",
       "      <th>1428</th>\n",
       "      <td>2008</td>\n",
       "      <td>SVN</td>\n",
       "      <td>Slovenia</td>\n",
       "      <td>Eastern Europe</td>\n",
       "      <td>NaN</td>\n",
       "      <td>NaN</td>\n",
       "      <td>NaN</td>\n",
       "      <td>10.0</td>\n",
       "      <td>10.0</td>\n",
       "      <td>10.0</td>\n",
       "      <td>10.0</td>\n",
       "      <td>NaN</td>\n",
       "      <td>10.000000</td>\n",
       "      <td>7.01</td>\n",
       "      <td>65.0</td>\n",
       "      <td>7.825762</td>\n",
       "      <td>41.0</td>\n",
       "    </tr>\n",
       "    <tr>\n",
       "      <th>1429</th>\n",
       "      <td>2008</td>\n",
       "      <td>ZAF</td>\n",
       "      <td>South Africa</td>\n",
       "      <td>Sub-Saharan Africa</td>\n",
       "      <td>NaN</td>\n",
       "      <td>NaN</td>\n",
       "      <td>NaN</td>\n",
       "      <td>5.0</td>\n",
       "      <td>10.0</td>\n",
       "      <td>10.0</td>\n",
       "      <td>10.0</td>\n",
       "      <td>NaN</td>\n",
       "      <td>7.500000</td>\n",
       "      <td>6.72</td>\n",
       "      <td>81.0</td>\n",
       "      <td>6.762374</td>\n",
       "      <td>86.0</td>\n",
       "    </tr>\n",
       "    <tr>\n",
       "      <th>1430</th>\n",
       "      <td>2008</td>\n",
       "      <td>ESP</td>\n",
       "      <td>Spain</td>\n",
       "      <td>Western Europe</td>\n",
       "      <td>NaN</td>\n",
       "      <td>NaN</td>\n",
       "      <td>NaN</td>\n",
       "      <td>10.0</td>\n",
       "      <td>10.0</td>\n",
       "      <td>10.0</td>\n",
       "      <td>10.0</td>\n",
       "      <td>NaN</td>\n",
       "      <td>10.000000</td>\n",
       "      <td>7.37</td>\n",
       "      <td>37.0</td>\n",
       "      <td>8.247249</td>\n",
       "      <td>21.0</td>\n",
       "    </tr>\n",
       "    <tr>\n",
       "      <th>1431</th>\n",
       "      <td>2008</td>\n",
       "      <td>LKA</td>\n",
       "      <td>Sri Lanka</td>\n",
       "      <td>South Asia</td>\n",
       "      <td>NaN</td>\n",
       "      <td>NaN</td>\n",
       "      <td>NaN</td>\n",
       "      <td>5.0</td>\n",
       "      <td>0.0</td>\n",
       "      <td>0.0</td>\n",
       "      <td>0.0</td>\n",
       "      <td>NaN</td>\n",
       "      <td>2.500000</td>\n",
       "      <td>6.26</td>\n",
       "      <td>99.0</td>\n",
       "      <td>5.860377</td>\n",
       "      <td>122.0</td>\n",
       "    </tr>\n",
       "    <tr>\n",
       "      <th>1432</th>\n",
       "      <td>2008</td>\n",
       "      <td>SDN</td>\n",
       "      <td>Sudan</td>\n",
       "      <td>Sub-Saharan Africa</td>\n",
       "      <td>NaN</td>\n",
       "      <td>NaN</td>\n",
       "      <td>NaN</td>\n",
       "      <td>NaN</td>\n",
       "      <td>NaN</td>\n",
       "      <td>NaN</td>\n",
       "      <td>NaN</td>\n",
       "      <td>NaN</td>\n",
       "      <td>NaN</td>\n",
       "      <td>NaN</td>\n",
       "      <td>NaN</td>\n",
       "      <td>NaN</td>\n",
       "      <td>NaN</td>\n",
       "    </tr>\n",
       "    <tr>\n",
       "      <th>1433</th>\n",
       "      <td>2008</td>\n",
       "      <td>SUR</td>\n",
       "      <td>Suriname</td>\n",
       "      <td>Latin America &amp; the Caribbean</td>\n",
       "      <td>NaN</td>\n",
       "      <td>NaN</td>\n",
       "      <td>NaN</td>\n",
       "      <td>NaN</td>\n",
       "      <td>NaN</td>\n",
       "      <td>NaN</td>\n",
       "      <td>NaN</td>\n",
       "      <td>NaN</td>\n",
       "      <td>NaN</td>\n",
       "      <td>NaN</td>\n",
       "      <td>NaN</td>\n",
       "      <td>NaN</td>\n",
       "      <td>NaN</td>\n",
       "    </tr>\n",
       "    <tr>\n",
       "      <th>1434</th>\n",
       "      <td>2008</td>\n",
       "      <td>SWZ</td>\n",
       "      <td>Swaziland</td>\n",
       "      <td>Sub-Saharan Africa</td>\n",
       "      <td>NaN</td>\n",
       "      <td>NaN</td>\n",
       "      <td>NaN</td>\n",
       "      <td>NaN</td>\n",
       "      <td>NaN</td>\n",
       "      <td>NaN</td>\n",
       "      <td>NaN</td>\n",
       "      <td>NaN</td>\n",
       "      <td>NaN</td>\n",
       "      <td>NaN</td>\n",
       "      <td>NaN</td>\n",
       "      <td>NaN</td>\n",
       "      <td>NaN</td>\n",
       "    </tr>\n",
       "    <tr>\n",
       "      <th>1435</th>\n",
       "      <td>2008</td>\n",
       "      <td>SWE</td>\n",
       "      <td>Sweden</td>\n",
       "      <td>Western Europe</td>\n",
       "      <td>NaN</td>\n",
       "      <td>NaN</td>\n",
       "      <td>NaN</td>\n",
       "      <td>10.0</td>\n",
       "      <td>10.0</td>\n",
       "      <td>10.0</td>\n",
       "      <td>10.0</td>\n",
       "      <td>NaN</td>\n",
       "      <td>10.000000</td>\n",
       "      <td>7.40</td>\n",
       "      <td>36.0</td>\n",
       "      <td>8.452347</td>\n",
       "      <td>11.0</td>\n",
       "    </tr>\n",
       "    <tr>\n",
       "      <th>1436</th>\n",
       "      <td>2008</td>\n",
       "      <td>CHE</td>\n",
       "      <td>Switzerland</td>\n",
       "      <td>Western Europe</td>\n",
       "      <td>NaN</td>\n",
       "      <td>NaN</td>\n",
       "      <td>NaN</td>\n",
       "      <td>10.0</td>\n",
       "      <td>10.0</td>\n",
       "      <td>10.0</td>\n",
       "      <td>10.0</td>\n",
       "      <td>NaN</td>\n",
       "      <td>10.000000</td>\n",
       "      <td>8.24</td>\n",
       "      <td>4.0</td>\n",
       "      <td>8.774437</td>\n",
       "      <td>3.0</td>\n",
       "    </tr>\n",
       "    <tr>\n",
       "      <th>1437</th>\n",
       "      <td>2008</td>\n",
       "      <td>SYR</td>\n",
       "      <td>Syria</td>\n",
       "      <td>Middle East &amp; North Africa</td>\n",
       "      <td>NaN</td>\n",
       "      <td>NaN</td>\n",
       "      <td>NaN</td>\n",
       "      <td>5.0</td>\n",
       "      <td>0.0</td>\n",
       "      <td>0.0</td>\n",
       "      <td>0.0</td>\n",
       "      <td>NaN</td>\n",
       "      <td>2.500000</td>\n",
       "      <td>5.62</td>\n",
       "      <td>126.0</td>\n",
       "      <td>5.457516</td>\n",
       "      <td>132.0</td>\n",
       "    </tr>\n",
       "    <tr>\n",
       "      <th>1438</th>\n",
       "      <td>2008</td>\n",
       "      <td>TWN</td>\n",
       "      <td>Taiwan</td>\n",
       "      <td>East Asia</td>\n",
       "      <td>NaN</td>\n",
       "      <td>NaN</td>\n",
       "      <td>NaN</td>\n",
       "      <td>10.0</td>\n",
       "      <td>10.0</td>\n",
       "      <td>10.0</td>\n",
       "      <td>10.0</td>\n",
       "      <td>NaN</td>\n",
       "      <td>10.000000</td>\n",
       "      <td>7.49</td>\n",
       "      <td>31.0</td>\n",
       "      <td>7.792327</td>\n",
       "      <td>43.0</td>\n",
       "    </tr>\n",
       "    <tr>\n",
       "      <th>1439</th>\n",
       "      <td>2008</td>\n",
       "      <td>TJK</td>\n",
       "      <td>Tajikistan</td>\n",
       "      <td>Caucasus &amp; Central Asia</td>\n",
       "      <td>NaN</td>\n",
       "      <td>NaN</td>\n",
       "      <td>NaN</td>\n",
       "      <td>NaN</td>\n",
       "      <td>NaN</td>\n",
       "      <td>NaN</td>\n",
       "      <td>NaN</td>\n",
       "      <td>NaN</td>\n",
       "      <td>NaN</td>\n",
       "      <td>NaN</td>\n",
       "      <td>NaN</td>\n",
       "      <td>NaN</td>\n",
       "      <td>NaN</td>\n",
       "    </tr>\n",
       "    <tr>\n",
       "      <th>1440</th>\n",
       "      <td>2008</td>\n",
       "      <td>TZA</td>\n",
       "      <td>Tanzania</td>\n",
       "      <td>Sub-Saharan Africa</td>\n",
       "      <td>NaN</td>\n",
       "      <td>NaN</td>\n",
       "      <td>NaN</td>\n",
       "      <td>5.0</td>\n",
       "      <td>0.0</td>\n",
       "      <td>0.0</td>\n",
       "      <td>0.0</td>\n",
       "      <td>NaN</td>\n",
       "      <td>2.500000</td>\n",
       "      <td>6.20</td>\n",
       "      <td>102.0</td>\n",
       "      <td>6.338606</td>\n",
       "      <td>108.0</td>\n",
       "    </tr>\n",
       "    <tr>\n",
       "      <th>1441</th>\n",
       "      <td>2008</td>\n",
       "      <td>THA</td>\n",
       "      <td>Thailand</td>\n",
       "      <td>South Asia</td>\n",
       "      <td>NaN</td>\n",
       "      <td>NaN</td>\n",
       "      <td>NaN</td>\n",
       "      <td>10.0</td>\n",
       "      <td>10.0</td>\n",
       "      <td>10.0</td>\n",
       "      <td>10.0</td>\n",
       "      <td>NaN</td>\n",
       "      <td>10.000000</td>\n",
       "      <td>6.80</td>\n",
       "      <td>74.0</td>\n",
       "      <td>7.274283</td>\n",
       "      <td>59.0</td>\n",
       "    </tr>\n",
       "    <tr>\n",
       "      <th>1442</th>\n",
       "      <td>2008</td>\n",
       "      <td>TLS</td>\n",
       "      <td>Timor-Leste</td>\n",
       "      <td>South Asia</td>\n",
       "      <td>NaN</td>\n",
       "      <td>NaN</td>\n",
       "      <td>NaN</td>\n",
       "      <td>NaN</td>\n",
       "      <td>NaN</td>\n",
       "      <td>NaN</td>\n",
       "      <td>NaN</td>\n",
       "      <td>NaN</td>\n",
       "      <td>NaN</td>\n",
       "      <td>NaN</td>\n",
       "      <td>NaN</td>\n",
       "      <td>NaN</td>\n",
       "      <td>NaN</td>\n",
       "    </tr>\n",
       "    <tr>\n",
       "      <th>1443</th>\n",
       "      <td>2008</td>\n",
       "      <td>TGO</td>\n",
       "      <td>Togo</td>\n",
       "      <td>Sub-Saharan Africa</td>\n",
       "      <td>NaN</td>\n",
       "      <td>NaN</td>\n",
       "      <td>NaN</td>\n",
       "      <td>5.0</td>\n",
       "      <td>0.0</td>\n",
       "      <td>0.0</td>\n",
       "      <td>0.0</td>\n",
       "      <td>NaN</td>\n",
       "      <td>2.500000</td>\n",
       "      <td>5.67</td>\n",
       "      <td>124.0</td>\n",
       "      <td>5.763365</td>\n",
       "      <td>124.0</td>\n",
       "    </tr>\n",
       "    <tr>\n",
       "      <th>1444</th>\n",
       "      <td>2008</td>\n",
       "      <td>TTO</td>\n",
       "      <td>Trinidad and Tobago</td>\n",
       "      <td>Latin America &amp; the Caribbean</td>\n",
       "      <td>NaN</td>\n",
       "      <td>NaN</td>\n",
       "      <td>NaN</td>\n",
       "      <td>10.0</td>\n",
       "      <td>0.0</td>\n",
       "      <td>0.0</td>\n",
       "      <td>0.0</td>\n",
       "      <td>NaN</td>\n",
       "      <td>5.000000</td>\n",
       "      <td>6.74</td>\n",
       "      <td>79.0</td>\n",
       "      <td>6.805600</td>\n",
       "      <td>81.0</td>\n",
       "    </tr>\n",
       "    <tr>\n",
       "      <th>1445</th>\n",
       "      <td>2008</td>\n",
       "      <td>TUN</td>\n",
       "      <td>Tunisia</td>\n",
       "      <td>Middle East &amp; North Africa</td>\n",
       "      <td>NaN</td>\n",
       "      <td>NaN</td>\n",
       "      <td>NaN</td>\n",
       "      <td>10.0</td>\n",
       "      <td>0.0</td>\n",
       "      <td>0.0</td>\n",
       "      <td>0.0</td>\n",
       "      <td>NaN</td>\n",
       "      <td>5.000000</td>\n",
       "      <td>6.68</td>\n",
       "      <td>84.0</td>\n",
       "      <td>6.249058</td>\n",
       "      <td>110.0</td>\n",
       "    </tr>\n",
       "    <tr>\n",
       "      <th>1446</th>\n",
       "      <td>2008</td>\n",
       "      <td>TUR</td>\n",
       "      <td>Turkey</td>\n",
       "      <td>Middle East &amp; North Africa</td>\n",
       "      <td>NaN</td>\n",
       "      <td>NaN</td>\n",
       "      <td>NaN</td>\n",
       "      <td>10.0</td>\n",
       "      <td>10.0</td>\n",
       "      <td>10.0</td>\n",
       "      <td>10.0</td>\n",
       "      <td>NaN</td>\n",
       "      <td>10.000000</td>\n",
       "      <td>6.86</td>\n",
       "      <td>68.0</td>\n",
       "      <td>6.918409</td>\n",
       "      <td>76.0</td>\n",
       "    </tr>\n",
       "    <tr>\n",
       "      <th>1447</th>\n",
       "      <td>2008</td>\n",
       "      <td>UGA</td>\n",
       "      <td>Uganda</td>\n",
       "      <td>Sub-Saharan Africa</td>\n",
       "      <td>NaN</td>\n",
       "      <td>NaN</td>\n",
       "      <td>NaN</td>\n",
       "      <td>5.0</td>\n",
       "      <td>0.0</td>\n",
       "      <td>0.0</td>\n",
       "      <td>0.0</td>\n",
       "      <td>NaN</td>\n",
       "      <td>2.500000</td>\n",
       "      <td>7.21</td>\n",
       "      <td>48.0</td>\n",
       "      <td>6.495271</td>\n",
       "      <td>102.0</td>\n",
       "    </tr>\n",
       "    <tr>\n",
       "      <th>1448</th>\n",
       "      <td>2008</td>\n",
       "      <td>UKR</td>\n",
       "      <td>Ukraine</td>\n",
       "      <td>Eastern Europe</td>\n",
       "      <td>NaN</td>\n",
       "      <td>NaN</td>\n",
       "      <td>NaN</td>\n",
       "      <td>10.0</td>\n",
       "      <td>10.0</td>\n",
       "      <td>10.0</td>\n",
       "      <td>10.0</td>\n",
       "      <td>NaN</td>\n",
       "      <td>10.000000</td>\n",
       "      <td>5.87</td>\n",
       "      <td>121.0</td>\n",
       "      <td>6.798697</td>\n",
       "      <td>82.0</td>\n",
       "    </tr>\n",
       "    <tr>\n",
       "      <th>1449</th>\n",
       "      <td>2008</td>\n",
       "      <td>ARE</td>\n",
       "      <td>United Arab Emirates</td>\n",
       "      <td>Middle East &amp; North Africa</td>\n",
       "      <td>NaN</td>\n",
       "      <td>NaN</td>\n",
       "      <td>NaN</td>\n",
       "      <td>0.0</td>\n",
       "      <td>0.0</td>\n",
       "      <td>0.0</td>\n",
       "      <td>0.0</td>\n",
       "      <td>NaN</td>\n",
       "      <td>0.000000</td>\n",
       "      <td>7.68</td>\n",
       "      <td>17.0</td>\n",
       "      <td>6.784866</td>\n",
       "      <td>85.0</td>\n",
       "    </tr>\n",
       "    <tr>\n",
       "      <th>1450</th>\n",
       "      <td>2008</td>\n",
       "      <td>GBR</td>\n",
       "      <td>United Kingdom</td>\n",
       "      <td>Western Europe</td>\n",
       "      <td>NaN</td>\n",
       "      <td>NaN</td>\n",
       "      <td>NaN</td>\n",
       "      <td>10.0</td>\n",
       "      <td>10.0</td>\n",
       "      <td>10.0</td>\n",
       "      <td>10.0</td>\n",
       "      <td>NaN</td>\n",
       "      <td>10.000000</td>\n",
       "      <td>7.99</td>\n",
       "      <td>8.0</td>\n",
       "      <td>8.536421</td>\n",
       "      <td>9.0</td>\n",
       "    </tr>\n",
       "    <tr>\n",
       "      <th>1451</th>\n",
       "      <td>2008</td>\n",
       "      <td>USA</td>\n",
       "      <td>United States</td>\n",
       "      <td>North America</td>\n",
       "      <td>NaN</td>\n",
       "      <td>NaN</td>\n",
       "      <td>NaN</td>\n",
       "      <td>10.0</td>\n",
       "      <td>10.0</td>\n",
       "      <td>10.0</td>\n",
       "      <td>10.0</td>\n",
       "      <td>NaN</td>\n",
       "      <td>10.000000</td>\n",
       "      <td>8.17</td>\n",
       "      <td>5.0</td>\n",
       "      <td>8.448265</td>\n",
       "      <td>11.0</td>\n",
       "    </tr>\n",
       "    <tr>\n",
       "      <th>1452</th>\n",
       "      <td>2008</td>\n",
       "      <td>URY</td>\n",
       "      <td>Uruguay</td>\n",
       "      <td>Latin America &amp; the Caribbean</td>\n",
       "      <td>NaN</td>\n",
       "      <td>NaN</td>\n",
       "      <td>NaN</td>\n",
       "      <td>10.0</td>\n",
       "      <td>10.0</td>\n",
       "      <td>10.0</td>\n",
       "      <td>10.0</td>\n",
       "      <td>NaN</td>\n",
       "      <td>10.000000</td>\n",
       "      <td>7.12</td>\n",
       "      <td>58.0</td>\n",
       "      <td>7.947847</td>\n",
       "      <td>37.0</td>\n",
       "    </tr>\n",
       "    <tr>\n",
       "      <th>1453</th>\n",
       "      <td>2008</td>\n",
       "      <td>VEN</td>\n",
       "      <td>Venezuela</td>\n",
       "      <td>Latin America &amp; the Caribbean</td>\n",
       "      <td>NaN</td>\n",
       "      <td>NaN</td>\n",
       "      <td>NaN</td>\n",
       "      <td>10.0</td>\n",
       "      <td>10.0</td>\n",
       "      <td>10.0</td>\n",
       "      <td>10.0</td>\n",
       "      <td>NaN</td>\n",
       "      <td>10.000000</td>\n",
       "      <td>4.22</td>\n",
       "      <td>140.0</td>\n",
       "      <td>5.257879</td>\n",
       "      <td>136.0</td>\n",
       "    </tr>\n",
       "    <tr>\n",
       "      <th>1454</th>\n",
       "      <td>2008</td>\n",
       "      <td>VNM</td>\n",
       "      <td>Vietnam</td>\n",
       "      <td>South Asia</td>\n",
       "      <td>NaN</td>\n",
       "      <td>NaN</td>\n",
       "      <td>NaN</td>\n",
       "      <td>10.0</td>\n",
       "      <td>10.0</td>\n",
       "      <td>10.0</td>\n",
       "      <td>10.0</td>\n",
       "      <td>NaN</td>\n",
       "      <td>10.000000</td>\n",
       "      <td>6.19</td>\n",
       "      <td>103.0</td>\n",
       "      <td>6.420206</td>\n",
       "      <td>106.0</td>\n",
       "    </tr>\n",
       "    <tr>\n",
       "      <th>1455</th>\n",
       "      <td>2008</td>\n",
       "      <td>YEM</td>\n",
       "      <td>Yemen, Rep.</td>\n",
       "      <td>Middle East &amp; North Africa</td>\n",
       "      <td>NaN</td>\n",
       "      <td>NaN</td>\n",
       "      <td>NaN</td>\n",
       "      <td>NaN</td>\n",
       "      <td>NaN</td>\n",
       "      <td>NaN</td>\n",
       "      <td>NaN</td>\n",
       "      <td>NaN</td>\n",
       "      <td>NaN</td>\n",
       "      <td>NaN</td>\n",
       "      <td>NaN</td>\n",
       "      <td>NaN</td>\n",
       "      <td>NaN</td>\n",
       "    </tr>\n",
       "    <tr>\n",
       "      <th>1456</th>\n",
       "      <td>2008</td>\n",
       "      <td>ZMB</td>\n",
       "      <td>Zambia</td>\n",
       "      <td>Sub-Saharan Africa</td>\n",
       "      <td>NaN</td>\n",
       "      <td>NaN</td>\n",
       "      <td>NaN</td>\n",
       "      <td>0.0</td>\n",
       "      <td>0.0</td>\n",
       "      <td>10.0</td>\n",
       "      <td>5.0</td>\n",
       "      <td>NaN</td>\n",
       "      <td>2.500000</td>\n",
       "      <td>7.15</td>\n",
       "      <td>57.0</td>\n",
       "      <td>6.647724</td>\n",
       "      <td>95.0</td>\n",
       "    </tr>\n",
       "    <tr>\n",
       "      <th>1457</th>\n",
       "      <td>2008</td>\n",
       "      <td>ZWE</td>\n",
       "      <td>Zimbabwe</td>\n",
       "      <td>Sub-Saharan Africa</td>\n",
       "      <td>NaN</td>\n",
       "      <td>NaN</td>\n",
       "      <td>NaN</td>\n",
       "      <td>5.0</td>\n",
       "      <td>0.0</td>\n",
       "      <td>10.0</td>\n",
       "      <td>5.0</td>\n",
       "      <td>NaN</td>\n",
       "      <td>5.000000</td>\n",
       "      <td>4.55</td>\n",
       "      <td>138.0</td>\n",
       "      <td>4.935571</td>\n",
       "      <td>140.0</td>\n",
       "    </tr>\n",
       "  </tbody>\n",
       "</table>\n",
       "<p>1458 rows × 17 columns</p>\n",
       "</div>"
      ],
      "text/plain": [
       "      year ISO_code               countries                         region  \\\n",
       "0     2016      ALB                 Albania                 Eastern Europe   \n",
       "1     2016      DZA                 Algeria     Middle East & North Africa   \n",
       "2     2016      AGO                  Angola             Sub-Saharan Africa   \n",
       "3     2016      ARG               Argentina  Latin America & the Caribbean   \n",
       "4     2016      ARM                 Armenia        Caucasus & Central Asia   \n",
       "5     2016      AUS               Australia                        Oceania   \n",
       "6     2016      AUT                 Austria                 Western Europe   \n",
       "7     2016      AZE              Azerbaijan        Caucasus & Central Asia   \n",
       "8     2016      BHS                 Bahamas  Latin America & the Caribbean   \n",
       "9     2016      BHR                 Bahrain     Middle East & North Africa   \n",
       "10    2016      BGD              Bangladesh                     South Asia   \n",
       "11    2016      BRD                Barbados  Latin America & the Caribbean   \n",
       "12    2016      BLR                 Belarus                 Eastern Europe   \n",
       "13    2016      BEL                 Belgium                 Western Europe   \n",
       "14    2016      BLZ                  Belize  Latin America & the Caribbean   \n",
       "15    2016      BEN                   Benin             Sub-Saharan Africa   \n",
       "16    2016      BTN                  Bhutan                     South Asia   \n",
       "17    2016      BOL                 Bolivia  Latin America & the Caribbean   \n",
       "18    2016      BIH  Bosnia and Herzegovina                 Eastern Europe   \n",
       "19    2016      BWA                Botswana             Sub-Saharan Africa   \n",
       "20    2016      BRA                  Brazil  Latin America & the Caribbean   \n",
       "21    2016      BRN       Brunei Darussalam                     South Asia   \n",
       "22    2016      BGR                Bulgaria                 Eastern Europe   \n",
       "23    2016      BFA            Burkina Faso             Sub-Saharan Africa   \n",
       "24    2016      BDI                 Burundi             Sub-Saharan Africa   \n",
       "25    2016      KHM                Cambodia                     South Asia   \n",
       "26    2016      CMR                Cameroon             Sub-Saharan Africa   \n",
       "27    2016      CAN                  Canada                  North America   \n",
       "28    2016      CPV              Cape Verde             Sub-Saharan Africa   \n",
       "29    2016      CAF       Central Afr. Rep.             Sub-Saharan Africa   \n",
       "...    ...      ...                     ...                            ...   \n",
       "1428  2008      SVN                Slovenia                 Eastern Europe   \n",
       "1429  2008      ZAF            South Africa             Sub-Saharan Africa   \n",
       "1430  2008      ESP                   Spain                 Western Europe   \n",
       "1431  2008      LKA               Sri Lanka                     South Asia   \n",
       "1432  2008      SDN                   Sudan             Sub-Saharan Africa   \n",
       "1433  2008      SUR                Suriname  Latin America & the Caribbean   \n",
       "1434  2008      SWZ               Swaziland             Sub-Saharan Africa   \n",
       "1435  2008      SWE                  Sweden                 Western Europe   \n",
       "1436  2008      CHE             Switzerland                 Western Europe   \n",
       "1437  2008      SYR                   Syria     Middle East & North Africa   \n",
       "1438  2008      TWN                  Taiwan                      East Asia   \n",
       "1439  2008      TJK              Tajikistan        Caucasus & Central Asia   \n",
       "1440  2008      TZA                Tanzania             Sub-Saharan Africa   \n",
       "1441  2008      THA                Thailand                     South Asia   \n",
       "1442  2008      TLS             Timor-Leste                     South Asia   \n",
       "1443  2008      TGO                    Togo             Sub-Saharan Africa   \n",
       "1444  2008      TTO     Trinidad and Tobago  Latin America & the Caribbean   \n",
       "1445  2008      TUN                 Tunisia     Middle East & North Africa   \n",
       "1446  2008      TUR                  Turkey     Middle East & North Africa   \n",
       "1447  2008      UGA                  Uganda             Sub-Saharan Africa   \n",
       "1448  2008      UKR                 Ukraine                 Eastern Europe   \n",
       "1449  2008      ARE    United Arab Emirates     Middle East & North Africa   \n",
       "1450  2008      GBR          United Kingdom                 Western Europe   \n",
       "1451  2008      USA           United States                  North America   \n",
       "1452  2008      URY                 Uruguay  Latin America & the Caribbean   \n",
       "1453  2008      VEN               Venezuela  Latin America & the Caribbean   \n",
       "1454  2008      VNM                 Vietnam                     South Asia   \n",
       "1455  2008      YEM             Yemen, Rep.     Middle East & North Africa   \n",
       "1456  2008      ZMB                  Zambia             Sub-Saharan Africa   \n",
       "1457  2008      ZWE                Zimbabwe             Sub-Saharan Africa   \n",
       "\n",
       "      pf_identity_legal  pf_identity_parental_marriage  \\\n",
       "0                   0.0                           10.0   \n",
       "1                   NaN                            0.0   \n",
       "2                  10.0                           10.0   \n",
       "3                  10.0                           10.0   \n",
       "4                   7.0                           10.0   \n",
       "5                   7.0                           10.0   \n",
       "6                  10.0                           10.0   \n",
       "7                   0.0                           10.0   \n",
       "8                   NaN                           10.0   \n",
       "9                   NaN                            0.0   \n",
       "10                  0.0                            0.0   \n",
       "11                  NaN                           10.0   \n",
       "12                  7.0                           10.0   \n",
       "13                  7.0                           10.0   \n",
       "14                  NaN                           10.0   \n",
       "15                  NaN                           10.0   \n",
       "16                  0.0                            NaN   \n",
       "17                 10.0                           10.0   \n",
       "18                  7.0                           10.0   \n",
       "19                  7.0                            5.0   \n",
       "20                  0.0                           10.0   \n",
       "21                  0.0                            0.0   \n",
       "22                  7.0                           10.0   \n",
       "23                  NaN                           10.0   \n",
       "24                  NaN                            5.0   \n",
       "25                  NaN                           10.0   \n",
       "26                  NaN                           10.0   \n",
       "27                  7.0                           10.0   \n",
       "28                  NaN                            NaN   \n",
       "29                  NaN                            5.0   \n",
       "...                 ...                            ...   \n",
       "1428                NaN                            NaN   \n",
       "1429                NaN                            NaN   \n",
       "1430                NaN                            NaN   \n",
       "1431                NaN                            NaN   \n",
       "1432                NaN                            NaN   \n",
       "1433                NaN                            NaN   \n",
       "1434                NaN                            NaN   \n",
       "1435                NaN                            NaN   \n",
       "1436                NaN                            NaN   \n",
       "1437                NaN                            NaN   \n",
       "1438                NaN                            NaN   \n",
       "1439                NaN                            NaN   \n",
       "1440                NaN                            NaN   \n",
       "1441                NaN                            NaN   \n",
       "1442                NaN                            NaN   \n",
       "1443                NaN                            NaN   \n",
       "1444                NaN                            NaN   \n",
       "1445                NaN                            NaN   \n",
       "1446                NaN                            NaN   \n",
       "1447                NaN                            NaN   \n",
       "1448                NaN                            NaN   \n",
       "1449                NaN                            NaN   \n",
       "1450                NaN                            NaN   \n",
       "1451                NaN                            NaN   \n",
       "1452                NaN                            NaN   \n",
       "1453                NaN                            NaN   \n",
       "1454                NaN                            NaN   \n",
       "1455                NaN                            NaN   \n",
       "1456                NaN                            NaN   \n",
       "1457                NaN                            NaN   \n",
       "\n",
       "      pf_identity_parental_divorce  pf_identity_parental  \\\n",
       "0                             10.0                  10.0   \n",
       "1                              5.0                   2.5   \n",
       "2                             10.0                  10.0   \n",
       "3                             10.0                  10.0   \n",
       "4                             10.0                  10.0   \n",
       "5                             10.0                  10.0   \n",
       "6                             10.0                  10.0   \n",
       "7                             10.0                  10.0   \n",
       "8                             10.0                  10.0   \n",
       "9                              0.0                   0.0   \n",
       "10                             0.0                   0.0   \n",
       "11                            10.0                  10.0   \n",
       "12                            10.0                  10.0   \n",
       "13                            10.0                  10.0   \n",
       "14                            10.0                  10.0   \n",
       "15                            10.0                  10.0   \n",
       "16                            10.0                  10.0   \n",
       "17                            10.0                  10.0   \n",
       "18                            10.0                  10.0   \n",
       "19                             5.0                   5.0   \n",
       "20                            10.0                  10.0   \n",
       "21                             0.0                   0.0   \n",
       "22                            10.0                  10.0   \n",
       "23                            10.0                  10.0   \n",
       "24                            10.0                   7.5   \n",
       "25                            10.0                  10.0   \n",
       "26                            10.0                  10.0   \n",
       "27                            10.0                  10.0   \n",
       "28                             NaN                   NaN   \n",
       "29                             5.0                   5.0   \n",
       "...                            ...                   ...   \n",
       "1428                           NaN                  10.0   \n",
       "1429                           NaN                   5.0   \n",
       "1430                           NaN                  10.0   \n",
       "1431                           NaN                   5.0   \n",
       "1432                           NaN                   NaN   \n",
       "1433                           NaN                   NaN   \n",
       "1434                           NaN                   NaN   \n",
       "1435                           NaN                  10.0   \n",
       "1436                           NaN                  10.0   \n",
       "1437                           NaN                   5.0   \n",
       "1438                           NaN                  10.0   \n",
       "1439                           NaN                   NaN   \n",
       "1440                           NaN                   5.0   \n",
       "1441                           NaN                  10.0   \n",
       "1442                           NaN                   NaN   \n",
       "1443                           NaN                   5.0   \n",
       "1444                           NaN                  10.0   \n",
       "1445                           NaN                  10.0   \n",
       "1446                           NaN                  10.0   \n",
       "1447                           NaN                   5.0   \n",
       "1448                           NaN                  10.0   \n",
       "1449                           NaN                   0.0   \n",
       "1450                           NaN                  10.0   \n",
       "1451                           NaN                  10.0   \n",
       "1452                           NaN                  10.0   \n",
       "1453                           NaN                  10.0   \n",
       "1454                           NaN                  10.0   \n",
       "1455                           NaN                   NaN   \n",
       "1456                           NaN                   0.0   \n",
       "1457                           NaN                   5.0   \n",
       "\n",
       "      pf_identity_sex_male  pf_identity_sex_female  pf_identity_sex  \\\n",
       "0                     10.0                    10.0             10.0   \n",
       "1                      0.0                     0.0              0.0   \n",
       "2                      0.0                     0.0              0.0   \n",
       "3                     10.0                    10.0             10.0   \n",
       "4                     10.0                    10.0             10.0   \n",
       "5                     10.0                    10.0             10.0   \n",
       "6                     10.0                    10.0             10.0   \n",
       "7                     10.0                    10.0             10.0   \n",
       "8                     10.0                    10.0             10.0   \n",
       "9                     10.0                    10.0             10.0   \n",
       "10                     0.0                    10.0              5.0   \n",
       "11                     0.0                     0.0              0.0   \n",
       "12                    10.0                    10.0             10.0   \n",
       "13                    10.0                    10.0             10.0   \n",
       "14                    10.0                    10.0             10.0   \n",
       "15                    10.0                    10.0             10.0   \n",
       "16                     0.0                     0.0              0.0   \n",
       "17                    10.0                    10.0             10.0   \n",
       "18                    10.0                    10.0             10.0   \n",
       "19                     0.0                     0.0              0.0   \n",
       "20                    10.0                    10.0             10.0   \n",
       "21                     0.0                    10.0              5.0   \n",
       "22                    10.0                    10.0             10.0   \n",
       "23                    10.0                    10.0             10.0   \n",
       "24                     0.0                     0.0              0.0   \n",
       "25                    10.0                    10.0             10.0   \n",
       "26                     0.0                     0.0              0.0   \n",
       "27                    10.0                    10.0             10.0   \n",
       "28                    10.0                    10.0             10.0   \n",
       "29                    10.0                    10.0             10.0   \n",
       "...                    ...                     ...              ...   \n",
       "1428                  10.0                    10.0             10.0   \n",
       "1429                  10.0                    10.0             10.0   \n",
       "1430                  10.0                    10.0             10.0   \n",
       "1431                   0.0                     0.0              0.0   \n",
       "1432                   NaN                     NaN              NaN   \n",
       "1433                   NaN                     NaN              NaN   \n",
       "1434                   NaN                     NaN              NaN   \n",
       "1435                  10.0                    10.0             10.0   \n",
       "1436                  10.0                    10.0             10.0   \n",
       "1437                   0.0                     0.0              0.0   \n",
       "1438                  10.0                    10.0             10.0   \n",
       "1439                   NaN                     NaN              NaN   \n",
       "1440                   0.0                     0.0              0.0   \n",
       "1441                  10.0                    10.0             10.0   \n",
       "1442                   NaN                     NaN              NaN   \n",
       "1443                   0.0                     0.0              0.0   \n",
       "1444                   0.0                     0.0              0.0   \n",
       "1445                   0.0                     0.0              0.0   \n",
       "1446                  10.0                    10.0             10.0   \n",
       "1447                   0.0                     0.0              0.0   \n",
       "1448                  10.0                    10.0             10.0   \n",
       "1449                   0.0                     0.0              0.0   \n",
       "1450                  10.0                    10.0             10.0   \n",
       "1451                  10.0                    10.0             10.0   \n",
       "1452                  10.0                    10.0             10.0   \n",
       "1453                  10.0                    10.0             10.0   \n",
       "1454                  10.0                    10.0             10.0   \n",
       "1455                   NaN                     NaN              NaN   \n",
       "1456                   0.0                    10.0              5.0   \n",
       "1457                   0.0                    10.0              5.0   \n",
       "\n",
       "      pf_identity_divorce  pf_identity  ef_score  ef_rank  hf_score  hf_rank  \n",
       "0                     5.0     6.250000      7.54     34.0  7.568140     48.0  \n",
       "1                     0.0     0.833333      4.99    159.0  5.135886    155.0  \n",
       "2                    10.0     7.500000      5.17    155.0  5.640662    142.0  \n",
       "3                    10.0    10.000000      4.84    160.0  6.469848    107.0  \n",
       "4                     5.0     8.000000      7.57     29.0  7.241402     57.0  \n",
       "5                    10.0     9.250000      7.98     10.0  8.582219      4.0  \n",
       "6                    10.0    10.000000      7.58     27.0  8.413474     16.0  \n",
       "7                     5.0     6.250000      6.49    106.0  6.083277    130.0  \n",
       "8                     NaN    10.000000      7.34     49.0  7.397269     50.0  \n",
       "9                     0.0     3.333333      7.56     30.0  6.848035     75.0  \n",
       "10                    0.0     1.250000      6.30    120.0  5.801300    138.0  \n",
       "11                    NaN     5.000000      6.43    111.0  7.068447     67.0  \n",
       "12                    5.0     8.000000      6.23    123.0  6.144514    128.0  \n",
       "13                   10.0     9.250000      7.32     52.0  8.153589     27.0  \n",
       "14                    NaN    10.000000      6.86     83.0  7.145432     64.0  \n",
       "15                   10.0    10.000000      5.98    134.0  6.738488     90.0  \n",
       "16                    5.0     3.750000      7.02     73.0  6.810486     83.0  \n",
       "17                   10.0    10.000000      6.23    123.0  6.718385     92.0  \n",
       "18                   10.0     9.250000      6.60     98.0  7.230724     59.0  \n",
       "19                    5.0     4.250000      7.43     44.0  7.153167     64.0  \n",
       "20                   10.0     7.500000      5.75    144.0  6.207989    123.0  \n",
       "21                    NaN     1.666667      6.93     77.0  5.796850    138.0  \n",
       "22                   10.0     9.250000      7.41     46.0  7.782770     41.0  \n",
       "23                   10.0    10.000000      6.05    129.0  6.752670     88.0  \n",
       "24                   10.0     5.833333      5.92    138.0  5.167067    154.0  \n",
       "25                    5.0     8.333333      7.17     64.0  7.204224     61.0  \n",
       "26                    5.0     5.000000      5.82    141.0  5.575387    144.0  \n",
       "27                   10.0     9.250000      7.98     10.0  8.565863      5.0  \n",
       "28                    NaN    10.000000      6.68     93.0  7.333292     53.0  \n",
       "29                   10.0     8.333333      5.11    156.0  5.287816    152.0  \n",
       "...                   ...          ...       ...      ...       ...      ...  \n",
       "1428                  NaN    10.000000      7.01     65.0  7.825762     41.0  \n",
       "1429                  NaN     7.500000      6.72     81.0  6.762374     86.0  \n",
       "1430                  NaN    10.000000      7.37     37.0  8.247249     21.0  \n",
       "1431                  NaN     2.500000      6.26     99.0  5.860377    122.0  \n",
       "1432                  NaN          NaN       NaN      NaN       NaN      NaN  \n",
       "1433                  NaN          NaN       NaN      NaN       NaN      NaN  \n",
       "1434                  NaN          NaN       NaN      NaN       NaN      NaN  \n",
       "1435                  NaN    10.000000      7.40     36.0  8.452347     11.0  \n",
       "1436                  NaN    10.000000      8.24      4.0  8.774437      3.0  \n",
       "1437                  NaN     2.500000      5.62    126.0  5.457516    132.0  \n",
       "1438                  NaN    10.000000      7.49     31.0  7.792327     43.0  \n",
       "1439                  NaN          NaN       NaN      NaN       NaN      NaN  \n",
       "1440                  NaN     2.500000      6.20    102.0  6.338606    108.0  \n",
       "1441                  NaN    10.000000      6.80     74.0  7.274283     59.0  \n",
       "1442                  NaN          NaN       NaN      NaN       NaN      NaN  \n",
       "1443                  NaN     2.500000      5.67    124.0  5.763365    124.0  \n",
       "1444                  NaN     5.000000      6.74     79.0  6.805600     81.0  \n",
       "1445                  NaN     5.000000      6.68     84.0  6.249058    110.0  \n",
       "1446                  NaN    10.000000      6.86     68.0  6.918409     76.0  \n",
       "1447                  NaN     2.500000      7.21     48.0  6.495271    102.0  \n",
       "1448                  NaN    10.000000      5.87    121.0  6.798697     82.0  \n",
       "1449                  NaN     0.000000      7.68     17.0  6.784866     85.0  \n",
       "1450                  NaN    10.000000      7.99      8.0  8.536421      9.0  \n",
       "1451                  NaN    10.000000      8.17      5.0  8.448265     11.0  \n",
       "1452                  NaN    10.000000      7.12     58.0  7.947847     37.0  \n",
       "1453                  NaN    10.000000      4.22    140.0  5.257879    136.0  \n",
       "1454                  NaN    10.000000      6.19    103.0  6.420206    106.0  \n",
       "1455                  NaN          NaN       NaN      NaN       NaN      NaN  \n",
       "1456                  NaN     2.500000      7.15     57.0  6.647724     95.0  \n",
       "1457                  NaN     5.000000      4.55    138.0  4.935571    140.0  \n",
       "\n",
       "[1458 rows x 17 columns]"
      ]
     },
     "execution_count": 6,
     "metadata": {},
     "output_type": "execute_result"
    }
   ],
   "source": [
    "dataset[important_cols]"
   ]
  },
  {
   "cell_type": "markdown",
   "metadata": {},
   "source": [
    "1. Para evaluar el significado del puntaje 4.5, obtenemos el rango y medidas de dispersion del campo 'ef_score'."
   ]
  },
  {
   "cell_type": "markdown",
   "metadata": {},
   "source": [
    "Exportamos las columnas importantes a una variable, para el mundo y filtrando por region"
   ]
  },
  {
   "cell_type": "code",
   "execution_count": 7,
   "metadata": {},
   "outputs": [],
   "source": [
    "world_dataset = dataset[important_cols]\n",
    "latam_dataset = world_dataset[world_dataset['region'] == 'Latin America & the Caribbean']"
   ]
  },
  {
   "cell_type": "markdown",
   "metadata": {},
   "source": [
    "Obtenemos el rango de 'ef_score'"
   ]
  },
  {
   "cell_type": "code",
   "execution_count": 8,
   "metadata": {},
   "outputs": [
    {
     "data": {
      "text/plain": [
       "(0.0, 10.0)"
      ]
     },
     "execution_count": 8,
     "metadata": {},
     "output_type": "execute_result"
    }
   ],
   "source": [
    "max_pf_identity = world_dataset['pf_identity'].max()\n",
    "min_pf_identity = world_dataset['pf_identity'].min()\n",
    "min_pf_identity, max_pf_identity"
   ]
  },
  {
   "cell_type": "markdown",
   "metadata": {},
   "source": [
    "y tomamos la media, mediana, moda y la desviacion estandard"
   ]
  },
  {
   "cell_type": "code",
   "execution_count": 9,
   "metadata": {},
   "outputs": [
    {
     "data": {
      "text/plain": [
       "(7.33417997096807, 9.166666667000001, 0    10.0\n",
       " dtype: float64, 3.159472661477449)"
      ]
     },
     "execution_count": 9,
     "metadata": {},
     "output_type": "execute_result"
    }
   ],
   "source": [
    "mean_pf_identity = world_dataset['pf_identity'].mean()\n",
    "median_pf_identity = world_dataset['pf_identity'].median()\n",
    "mode_pf_identity = world_dataset['pf_identity'].mode()\n",
    "std_pf_identity = world_dataset['pf_identity'].std()\n",
    "mean_pf_identity, median_pf_identity, mode_pf_identity, std_pf_identity"
   ]
  },
  {
   "cell_type": "markdown",
   "metadata": {},
   "source": [
    "Graficamente:"
   ]
  },
  {
   "cell_type": "code",
   "execution_count": 10,
   "metadata": {},
   "outputs": [
    {
     "data": {
      "text/plain": [
       "<matplotlib.axes._subplots.AxesSubplot at 0x2559d051e48>"
      ]
     },
     "execution_count": 10,
     "metadata": {},
     "output_type": "execute_result"
    },
    {
     "data": {
      "image/png": "[encoded data removed]",
      "text/plain": [
       "<Figure size 720x432 with 1 Axes>"
      ]
     },
     "metadata": {
      "needs_background": "light"
     },
     "output_type": "display_data"
    }
   ],
   "source": [
    "plt.figure(figsize=(10,6))\n",
    "seaborn.distplot(dataset['pf_identity'].dropna())"
   ]
  },
  {
   "cell_type": "markdown",
   "metadata": {},
   "source": [
    "Con los valores obtenidos, podemos concluir que el valor 4.5 es a nivel mundial, un puntaje que representa libertades limitadas con respecto a otros paises."
   ]
  },
  {
   "cell_type": "markdown",
   "metadata": {},
   "source": [
    "2. Considerando la evolucion de la libertad en Argentina"
   ]
  },
  {
   "cell_type": "code",
   "execution_count": 11,
   "metadata": {},
   "outputs": [
    {
     "data": {
      "text/plain": [
       "<matplotlib.axes._subplots.AxesSubplot at 0x2559d4e5780>"
      ]
     },
     "execution_count": 11,
     "metadata": {},
     "output_type": "execute_result"
    },
    {
     "data": {
      "image/png": "[encoded data removed]",
      "text/plain": [
       "<Figure size 432x288 with 1 Axes>"
      ]
     },
     "metadata": {
      "needs_background": "light"
     },
     "output_type": "display_data"
    }
   ],
   "source": [
    "argentina_dataset = world_dataset[world_dataset['ISO_code'] == 'ARG']\n",
    "seaborn.lineplot(data=argentina_dataset, x='year', y='pf_identity')"
   ]
  },
  {
   "cell_type": "markdown",
   "metadata": {},
   "source": [
    "Podemos observar que el indice de libertad de indentidad se mantiene constante desde el año 2008 en el valor 10."
   ]
  },
  {
   "cell_type": "markdown",
   "metadata": {},
   "source": [
    "3. En cuanto a la relacion de la libertad de indetidad con la libertad humana y economica, podemos intuir que la libertad humana se encuentra mucho mas relacionada a la libertad de identidad que la economica. Esto puede comprobarse midiendo la correlacion de ambas variables contra *pf_identity*"
   ]
  },
  {
   "cell_type": "code",
   "execution_count": 12,
   "metadata": {},
   "outputs": [
    {
     "data": {
      "text/plain": [
       "(0.6777541950437673, 0.3888772379714563)"
      ]
     },
     "execution_count": 12,
     "metadata": {},
     "output_type": "execute_result"
    }
   ],
   "source": [
    "world_dataset['hf_score'].corr(world_dataset['pf_identity']), world_dataset['ef_score'].corr(world_dataset['pf_identity'])"
   ]
  },
  {
   "cell_type": "markdown",
   "metadata": {},
   "source": [
    "Observamos una mayor correlacion entre *hf_score* y *pf_identity*, lo que nos permite suponer que la libertad humana tiene una relacion mas fuerte a la libertad de identidad que la economica."
   ]
  },
  {
   "cell_type": "markdown",
   "metadata": {},
   "source": [
    "## 1. Estadísticos descriptivos\n",
    "\n",
    "  1. Para comenzar con un pantallazo de los datos, calcular el rango de las variables.\n",
    "  2. Obtener media, mediana y desviación estándar de las variables *pf_identity* y *hf_score* en el mundo y compararla con la de Latinoamérica y el caribe. ¿Tiene sentido calcular la moda? \n",
    "  3. ¿Son todos los valores de *pf_identity*  y *hf_score* directamente comparables? ¿Qué otra variable podría influenciarlos?\n",
    "  4. ¿Cómo pueden sanearse los valores faltantes?\n",
    "  5. ¿Encuentra outliers en estas dos variables? ¿Qué método utiliza para detectarlos? ¿Los outliers, son globales o por grupo? ¿Los eliminaría del conjunto de datos?\n",
    "  \n",
    "  "
   ]
  },
  {
   "cell_type": "markdown",
   "metadata": {},
   "source": [
    "Obtenemos el mayor y menor valor para 'year'"
   ]
  },
  {
   "cell_type": "code",
   "execution_count": 13,
   "metadata": {},
   "outputs": [
    {
     "data": {
      "text/plain": [
       "(2008, 2016)"
      ]
     },
     "execution_count": 13,
     "metadata": {},
     "output_type": "execute_result"
    }
   ],
   "source": [
    "max_year = latam_dataset['year'].max()\n",
    "min_year = latam_dataset['year'].min()\n",
    "min_year, max_year"
   ]
  },
  {
   "cell_type": "markdown",
   "metadata": {},
   "source": [
    "Obtenemos los diferentes valores de 'ISO_code', que es una variable categorica. Se corresponde uno a uno con 'countries'"
   ]
  },
  {
   "cell_type": "code",
   "execution_count": 14,
   "metadata": {},
   "outputs": [
    {
     "data": {
      "text/plain": [
       "(array(['ARG', 'BHS', 'BRD', 'BLZ', 'BOL', 'BRA', 'CHL', 'COL', 'CRI',\n",
       "        'DOM', 'ECU', 'SLV', 'GTM', 'GUY', 'HTI', 'HND', 'JAM', 'MEX',\n",
       "        'NIC', 'PAN', 'PRY', 'PER', 'SUR', 'TTO', 'URY', 'VEN'],\n",
       "       dtype=object),\n",
       " array(['Argentina', 'Bahamas', 'Barbados', 'Belize', 'Bolivia', 'Brazil',\n",
       "        'Chile', 'Colombia', 'Costa Rica', 'Dominican Rep.', 'Ecuador',\n",
       "        'El Salvador', 'Guatemala', 'Guyana', 'Haiti', 'Honduras',\n",
       "        'Jamaica', 'Mexico', 'Nicaragua', 'Panama', 'Paraguay', 'Peru',\n",
       "        'Suriname', 'Trinidad and Tobago', 'Uruguay', 'Venezuela'],\n",
       "       dtype=object))"
      ]
     },
     "execution_count": 14,
     "metadata": {},
     "output_type": "execute_result"
    }
   ],
   "source": [
    "latam_dataset['ISO_code'].unique(), latam_dataset['countries'].unique()"
   ]
  },
  {
   "cell_type": "markdown",
   "metadata": {},
   "source": [
    "Obtenemos el rango de las variables."
   ]
  },
  {
   "cell_type": "code",
   "execution_count": 15,
   "metadata": {},
   "outputs": [
    {
     "data": {
      "text/html": [
       "<div>\n",
       "<style scoped>\n",
       "    .dataframe tbody tr th:only-of-type {\n",
       "        vertical-align: middle;\n",
       "    }\n",
       "\n",
       "    .dataframe tbody tr th {\n",
       "        vertical-align: top;\n",
       "    }\n",
       "\n",
       "    .dataframe thead th {\n",
       "        text-align: right;\n",
       "    }\n",
       "</style>\n",
       "<table border=\"1\" class=\"dataframe\">\n",
       "  <thead>\n",
       "    <tr style=\"text-align: right;\">\n",
       "      <th></th>\n",
       "      <th>min</th>\n",
       "      <th>max</th>\n",
       "    </tr>\n",
       "  </thead>\n",
       "  <tbody>\n",
       "    <tr>\n",
       "      <th>year</th>\n",
       "      <td>2008.000000</td>\n",
       "      <td>2016.000000</td>\n",
       "    </tr>\n",
       "    <tr>\n",
       "      <th>pf_identity_legal</th>\n",
       "      <td>0.000000</td>\n",
       "      <td>10.000000</td>\n",
       "    </tr>\n",
       "    <tr>\n",
       "      <th>pf_identity_parental_marriage</th>\n",
       "      <td>0.000000</td>\n",
       "      <td>10.000000</td>\n",
       "    </tr>\n",
       "    <tr>\n",
       "      <th>pf_identity_parental_divorce</th>\n",
       "      <td>0.000000</td>\n",
       "      <td>10.000000</td>\n",
       "    </tr>\n",
       "    <tr>\n",
       "      <th>pf_identity_parental</th>\n",
       "      <td>0.000000</td>\n",
       "      <td>10.000000</td>\n",
       "    </tr>\n",
       "    <tr>\n",
       "      <th>pf_identity_sex_male</th>\n",
       "      <td>0.000000</td>\n",
       "      <td>10.000000</td>\n",
       "    </tr>\n",
       "    <tr>\n",
       "      <th>pf_identity_sex_female</th>\n",
       "      <td>0.000000</td>\n",
       "      <td>10.000000</td>\n",
       "    </tr>\n",
       "    <tr>\n",
       "      <th>pf_identity_sex</th>\n",
       "      <td>0.000000</td>\n",
       "      <td>10.000000</td>\n",
       "    </tr>\n",
       "    <tr>\n",
       "      <th>pf_identity_divorce</th>\n",
       "      <td>10.000000</td>\n",
       "      <td>10.000000</td>\n",
       "    </tr>\n",
       "    <tr>\n",
       "      <th>pf_identity</th>\n",
       "      <td>5.000000</td>\n",
       "      <td>10.000000</td>\n",
       "    </tr>\n",
       "    <tr>\n",
       "      <th>ef_score</th>\n",
       "      <td>2.880000</td>\n",
       "      <td>7.910000</td>\n",
       "    </tr>\n",
       "    <tr>\n",
       "      <th>ef_rank</th>\n",
       "      <td>8.000000</td>\n",
       "      <td>162.000000</td>\n",
       "    </tr>\n",
       "    <tr>\n",
       "      <th>hf_score</th>\n",
       "      <td>4.200724</td>\n",
       "      <td>8.290152</td>\n",
       "    </tr>\n",
       "    <tr>\n",
       "      <th>hf_rank</th>\n",
       "      <td>19.000000</td>\n",
       "      <td>161.000000</td>\n",
       "    </tr>\n",
       "  </tbody>\n",
       "</table>\n",
       "</div>"
      ],
      "text/plain": [
       "                                       min          max\n",
       "year                           2008.000000  2016.000000\n",
       "pf_identity_legal                 0.000000    10.000000\n",
       "pf_identity_parental_marriage     0.000000    10.000000\n",
       "pf_identity_parental_divorce      0.000000    10.000000\n",
       "pf_identity_parental              0.000000    10.000000\n",
       "pf_identity_sex_male              0.000000    10.000000\n",
       "pf_identity_sex_female            0.000000    10.000000\n",
       "pf_identity_sex                   0.000000    10.000000\n",
       "pf_identity_divorce              10.000000    10.000000\n",
       "pf_identity                       5.000000    10.000000\n",
       "ef_score                          2.880000     7.910000\n",
       "ef_rank                           8.000000   162.000000\n",
       "hf_score                          4.200724     8.290152\n",
       "hf_rank                          19.000000   161.000000"
      ]
     },
     "execution_count": 15,
     "metadata": {},
     "output_type": "execute_result"
    }
   ],
   "source": [
    "latam_dataset.describe().loc[['min','max']].transpose()"
   ]
  },
  {
   "cell_type": "markdown",
   "metadata": {},
   "source": [
    "2. Obtenemos la media, mediana y desviacion estandard de 'pf_identity' en el mundo"
   ]
  },
  {
   "cell_type": "code",
   "execution_count": 16,
   "metadata": {},
   "outputs": [
    {
     "data": {
      "text/html": [
       "<div>\n",
       "<style scoped>\n",
       "    .dataframe tbody tr th:only-of-type {\n",
       "        vertical-align: middle;\n",
       "    }\n",
       "\n",
       "    .dataframe tbody tr th {\n",
       "        vertical-align: top;\n",
       "    }\n",
       "\n",
       "    .dataframe thead th {\n",
       "        text-align: right;\n",
       "    }\n",
       "</style>\n",
       "<table border=\"1\" class=\"dataframe\">\n",
       "  <thead>\n",
       "    <tr style=\"text-align: right;\">\n",
       "      <th></th>\n",
       "      <th>mean</th>\n",
       "      <th>50%</th>\n",
       "      <th>std</th>\n",
       "    </tr>\n",
       "  </thead>\n",
       "  <tbody>\n",
       "    <tr>\n",
       "      <th>pf_identity</th>\n",
       "      <td>7.334180</td>\n",
       "      <td>9.166667</td>\n",
       "      <td>3.159473</td>\n",
       "    </tr>\n",
       "    <tr>\n",
       "      <th>hf_score</th>\n",
       "      <td>6.993444</td>\n",
       "      <td>6.923840</td>\n",
       "      <td>1.025811</td>\n",
       "    </tr>\n",
       "  </tbody>\n",
       "</table>\n",
       "</div>"
      ],
      "text/plain": [
       "                 mean       50%       std\n",
       "pf_identity  7.334180  9.166667  3.159473\n",
       "hf_score     6.993444  6.923840  1.025811"
      ]
     },
     "execution_count": 16,
     "metadata": {},
     "output_type": "execute_result"
    }
   ],
   "source": [
    "world_dataset[['pf_identity', 'hf_score']].describe().loc[['mean','50%', 'std']].transpose()"
   ]
  },
  {
   "cell_type": "markdown",
   "metadata": {},
   "source": [
    "Obtenemos la media, mediana y desviacion estandard de 'pf_identity' en Latinoamérica y el caribe"
   ]
  },
  {
   "cell_type": "code",
   "execution_count": 17,
   "metadata": {},
   "outputs": [
    {
     "data": {
      "text/html": [
       "<div>\n",
       "<style scoped>\n",
       "    .dataframe tbody tr th:only-of-type {\n",
       "        vertical-align: middle;\n",
       "    }\n",
       "\n",
       "    .dataframe tbody tr th {\n",
       "        vertical-align: top;\n",
       "    }\n",
       "\n",
       "    .dataframe thead th {\n",
       "        text-align: right;\n",
       "    }\n",
       "</style>\n",
       "<table border=\"1\" class=\"dataframe\">\n",
       "  <thead>\n",
       "    <tr style=\"text-align: right;\">\n",
       "      <th></th>\n",
       "      <th>mean</th>\n",
       "      <th>50%</th>\n",
       "      <th>std</th>\n",
       "    </tr>\n",
       "  </thead>\n",
       "  <tbody>\n",
       "    <tr>\n",
       "      <th>pf_identity</th>\n",
       "      <td>8.765086</td>\n",
       "      <td>10.000000</td>\n",
       "      <td>1.711732</td>\n",
       "    </tr>\n",
       "    <tr>\n",
       "      <th>hf_score</th>\n",
       "      <td>7.047982</td>\n",
       "      <td>7.028045</td>\n",
       "      <td>0.608904</td>\n",
       "    </tr>\n",
       "  </tbody>\n",
       "</table>\n",
       "</div>"
      ],
      "text/plain": [
       "                 mean        50%       std\n",
       "pf_identity  8.765086  10.000000  1.711732\n",
       "hf_score     7.047982   7.028045  0.608904"
      ]
     },
     "execution_count": 17,
     "metadata": {},
     "output_type": "execute_result"
    }
   ],
   "source": [
    "latam_dataset[['pf_identity', 'hf_score']].describe().loc[['mean','50%', 'std']].transpose()"
   ]
  },
  {
   "cell_type": "markdown",
   "metadata": {},
   "source": [
    "Observamos que si bien el grado de libertad humana en America latina ligeramente es mas alto, al igual que la libertad de identidad, la dispersion es tambien notablemente menor en ambos casos.\n",
    "Podemos obtener la moda de *pf_identity* para observar cual es el nivel de libertad en la mayor parte de los paises, pero no seria informacion relevante. Por otro lado, la moda no tiene sentido para *hf_score*, que al ser una variable continua, no nos permitira obtener un valor unico."
   ]
  },
  {
   "cell_type": "markdown",
   "metadata": {},
   "source": [
    "3. Si bien *hf_score* se encuentra influenciada por *pf_identity*, tambien son parte de la libertad humana muchas otras variables. Por ejemplo: las iniciadas con *pf_expression* o *pf_religion*"
   ]
  },
  {
   "cell_type": "markdown",
   "metadata": {},
   "source": [
    "4. El saneado de los datos faltantes puede resolverse de diferentes maneras dependiendo del significado de la variable a estudiar y la cantidad de datos.\n",
    "En el caso de tratarse de pocos datos ausentes en una muestra grande. Es posible ignorar la fila completa de datos."
   ]
  },
  {
   "cell_type": "markdown",
   "metadata": {},
   "source": [
    "5. Siendo *pf_identity* y *hf_score* dos variables limitadas entre 0 y 10, los valores extremos no pueden ser considerados outliers."
   ]
  },
  {
   "cell_type": "markdown",
   "metadata": {},
   "source": [
    "## 2. Agregación de datos\n",
    "\n",
    "1. Grafiquen la media de la variable *pf_identity* y *hf_score* a través de los años.\n",
    "2. Realicen los mismos gráficos, pero separando por regiones (Cada variable en un gráfico distinto, sino no se ve nada). ¿La tendencia observada, es la misma que si no dividimos por regiones?\n",
    "3. Si lo consideran necesario, grafiquen algunos países de Latinoamerica para tratar de explicar la tendencia de la variable *pf_identity* en la región. ¿Cómo seleccionarion los países relevantes a esa tendencia?\n",
    "\n",
    "Hint: hay un gráfico de seaborn que hace todo por vos!\n",
    "\n",
    "Sólo por curiosidad, graficar la tendencia de *hf_score* y *ef_score* a través de los años. ¿Tienen alguna hipótesis para este comportamiento?"
   ]
  },
  {
   "cell_type": "markdown",
   "metadata": {},
   "source": [
    "1. Grafico de pf_identity a través de los años"
   ]
  },
  {
   "cell_type": "code",
   "execution_count": 18,
   "metadata": {},
   "outputs": [
    {
     "data": {
      "text/plain": [
       "<matplotlib.axes._subplots.AxesSubplot at 0x2559d4260b8>"
      ]
     },
     "execution_count": 18,
     "metadata": {},
     "output_type": "execute_result"
    },
    {
     "data": {
      "image/png": "[encoded data removed]",
      "text/plain": [
       "<Figure size 720x432 with 1 Axes>"
      ]
     },
     "metadata": {
      "needs_background": "light"
     },
     "output_type": "display_data"
    }
   ],
   "source": [
    "plt.figure(figsize=(10,6))\n",
    "seaborn.lineplot(data=world_dataset, x='year', y='pf_identity')"
   ]
  },
  {
   "cell_type": "markdown",
   "metadata": {},
   "source": [
    "Grafico de hf_score a través de los años"
   ]
  },
  {
   "cell_type": "code",
   "execution_count": 19,
   "metadata": {},
   "outputs": [
    {
     "data": {
      "text/plain": [
       "<matplotlib.axes._subplots.AxesSubplot at 0x2559d456710>"
      ]
     },
     "execution_count": 19,
     "metadata": {},
     "output_type": "execute_result"
    },
    {
     "data": {
      "image/png": "[encoded data removed]",
      "text/plain": [
       "<Figure size 720x432 with 1 Axes>"
      ]
     },
     "metadata": {
      "needs_background": "light"
     },
     "output_type": "display_data"
    }
   ],
   "source": [
    "plt.figure(figsize=(10,6))\n",
    "seaborn.lineplot(data=world_dataset, x='year', y='hf_score')"
   ]
  },
  {
   "cell_type": "markdown",
   "metadata": {},
   "source": [
    "Separando por regiones\n",
    "hf_score"
   ]
  },
  {
   "cell_type": "code",
   "execution_count": 20,
   "metadata": {},
   "outputs": [
    {
     "data": {
      "text/plain": [
       "<matplotlib.axes._subplots.AxesSubplot at 0x2559d94c208>"
      ]
     },
     "execution_count": 20,
     "metadata": {},
     "output_type": "execute_result"
    },
    {
     "data": {
      "image/png": "[encoded data removed]",
      "text/plain": [
       "<Figure size 1224x432 with 1 Axes>"
      ]
     },
     "metadata": {
      "needs_background": "light"
     },
     "output_type": "display_data"
    }
   ],
   "source": [
    "plt.figure(figsize=(17,6))\n",
    "seaborn.lineplot(data=world_dataset, x='year', y='hf_score', hue='region', err_style=\"bars\")"
   ]
  },
  {
   "cell_type": "markdown",
   "metadata": {},
   "source": [
    "pf_identity"
   ]
  },
  {
   "cell_type": "code",
   "execution_count": 21,
   "metadata": {},
   "outputs": [
    {
     "data": {
      "text/plain": [
       "<matplotlib.axes._subplots.AxesSubplot at 0x2559da17358>"
      ]
     },
     "execution_count": 21,
     "metadata": {},
     "output_type": "execute_result"
    },
    {
     "data": {
      "image/png": "[encoded data removed]",
      "text/plain": [
       "<Figure size 1224x432 with 1 Axes>"
      ]
     },
     "metadata": {
      "needs_background": "light"
     },
     "output_type": "display_data"
    }
   ],
   "source": [
    "plt.figure(figsize=(17,6))\n",
    "seaborn.lineplot(data=world_dataset, x='year', y='pf_identity', hue='region', err_style=\"bars\")"
   ]
  },
  {
   "cell_type": "markdown",
   "metadata": {},
   "source": [
    "Si bien la tendencia global pareciera indica que hay un decremento en las liertades de identidad, separando por regiones podemos ver que ese decremento pertenece principalmente a las eregiones de Medio Oriente y en los ultimos años de Latinoamerica y el caribe. Pero se notan mejoras en regiones como SUb-Sahara y Oceania."
   ]
  },
  {
   "cell_type": "markdown",
   "metadata": {},
   "source": [
    "3 Graficando los pasies de Latinoamerica"
   ]
  },
  {
   "cell_type": "markdown",
   "metadata": {},
   "source": [
    "Selecciono los paises con menores niveles en el ultimo año."
   ]
  },
  {
   "cell_type": "code",
   "execution_count": 22,
   "metadata": {},
   "outputs": [
    {
     "data": {
      "text/plain": [
       "11    BRD\n",
       "31    CHL\n",
       "60    GUY\n",
       "Name: ISO_code, dtype: object"
      ]
     },
     "execution_count": 22,
     "metadata": {},
     "output_type": "execute_result"
    }
   ],
   "source": [
    "last_year = latam_dataset[latam_dataset['year'] == 2016]\n",
    "less_free = last_year[last_year['pf_identity'] <6]\n",
    "less_free['ISO_code']"
   ]
  },
  {
   "cell_type": "code",
   "execution_count": 23,
   "metadata": {},
   "outputs": [
    {
     "data": {
      "text/plain": [
       "<matplotlib.axes._subplots.AxesSubplot at 0x2559db372e8>"
      ]
     },
     "execution_count": 23,
     "metadata": {},
     "output_type": "execute_result"
    },
    {
     "data": {
      "image/png": "[encoded data removed]",
      "text/plain": [
       "<Figure size 1224x432 with 1 Axes>"
      ]
     },
     "metadata": {
      "needs_background": "light"
     },
     "output_type": "display_data"
    }
   ],
   "source": [
    "plt.figure(figsize=(17,6))\n",
    "#selected_countries = latam_dataset\n",
    "selected_countries = latam_dataset[latam_dataset['ISO_code'].isin(['BRD', 'CHL', 'GUY'])]\n",
    "seaborn.lineplot(data=selected_countries, x='year', y='pf_identity', hue='ISO_code', err_style=\"bars\")"
   ]
  },
  {
   "cell_type": "code",
   "execution_count": 24,
   "metadata": {},
   "outputs": [
    {
     "data": {
      "text/plain": [
       "<matplotlib.axes._subplots.AxesSubplot at 0x2559dbb2d68>"
      ]
     },
     "execution_count": 24,
     "metadata": {},
     "output_type": "execute_result"
    },
    {
     "data": {
      "image/png": "[encoded data removed]",
      "text/plain": [
       "<Figure size 720x432 with 1 Axes>"
      ]
     },
     "metadata": {
      "needs_background": "light"
     },
     "output_type": "display_data"
    }
   ],
   "source": [
    "plt.figure(figsize=(10,6))\n",
    "seaborn.lineplot(data=world_dataset, x='year', y='ef_score')"
   ]
  },
  {
   "cell_type": "markdown",
   "metadata": {},
   "source": [
    "## 2. Distribuciones\n",
    "  1. Graficar en un mismo histograma la distribución de la variable *pf_identity* en global, y en Latinoamérica y el caribe. Repetir para la variable *hf_score*. ¿Visualmente, a qué tipo de distribución corresponde cada variable? ¿Es correcto utilizar todos los registros para esas zonas en estos gráficos?\n",
    "  2. Realizar una prueba de Kolmogorov-Smirnof para comprobar analíticamente si estas variables responden la distribución propuesta en el ejercicio anterior. Hint: podés usar https://docs.scipy.org/doc/scipy-0.14.0/reference/generated/scipy.stats.kstest.html, pero hay que tener en cuenta que si la distribución es \"norm\", entonces va a comparar los datos con una distribución normal con media 0 y desviación estándar 1. Se puede utilizar la distribución sobre todos los datos o sólo sobre Latinoamérica.\n",
    "  3. Realizar un gráfico QQ de las mismas distribuciones. Se puede utilizar a,bas distribuciones sobre todos los datos o sólo sobre Latinoamérica, pero no cruzadas.\n",
    "  4. Medir la asimetría (skew) y curtosis de las mismas distribuciones con las que realizó el gráfico anterior. ¿Cómo se relacionan estos estadísticos con la forma del gráfico QQ obtenido previamente? ¿El gráfico QQ provee más información que no esté presente en estos estadísticos?"
   ]
  },
  {
   "cell_type": "markdown",
   "metadata": {},
   "source": [
    "1. Graficamos la distribucion de *pf_identity* para el mundo y Latinoamérica y el caribe"
   ]
  },
  {
   "cell_type": "code",
   "execution_count": 25,
   "metadata": {},
   "outputs": [
    {
     "data": {
      "image/png": "[encoded data removed]",
      "text/plain": [
       "<Figure size 720x432 with 1 Axes>"
      ]
     },
     "metadata": {
      "needs_background": "light"
     },
     "output_type": "display_data"
    }
   ],
   "source": [
    "plt.figure(figsize=(10,6))\n",
    "seaborn.distplot(\n",
    "    world_dataset['pf_identity'].dropna(),\n",
    "    bins=20, label='Global')\n",
    "seaborn.distplot(\n",
    "    latam_dataset['pf_identity'].dropna(),\n",
    "    bins=20, label='Latam & Caribe')\n",
    "plt.xticks(rotation=45)\n",
    "plt.ylabel('Densidad de probabilidad')\n",
    "plt.legend()\n",
    "seaborn.despine()"
   ]
  },
  {
   "cell_type": "markdown",
   "metadata": {},
   "source": [
    "2. Realizamos una prueba de Kolmogorov-Smirnof"
   ]
  },
  {
   "cell_type": "code",
   "execution_count": 46,
   "metadata": {},
   "outputs": [
    {
     "data": {
      "text/plain": [
       "(KstestResult(statistic=0.9999997133484281, pvalue=0.0),\n",
       " KstestResult(statistic=0.9999866968877408, pvalue=0.0))"
      ]
     },
     "execution_count": 46,
     "metadata": {},
     "output_type": "execute_result"
    }
   ],
   "source": [
    "import scipy\n",
    "kstest_pf = scipy.stats.kstest(latam_dataset['pf_identity'].dropna(), 'norm')\n",
    "kstest_hf = scipy.stats.kstest(latam_dataset['hf_score'].dropna(), 'norm')\n",
    "kstest_pf, kstest_hf"
   ]
  },
  {
   "cell_type": "markdown",
   "metadata": {},
   "source": [
    "3. Realizamos el grafico QQ para *pf_identity* en LATAM y le mundo"
   ]
  },
  {
   "cell_type": "code",
   "execution_count": 40,
   "metadata": {},
   "outputs": [],
   "source": [
    "percs = numpy.linspace(0,100,21)  # Creamos 20 puntos percentiles igualmente distribuidos entre 0 y 10.\n",
    "numpy.percentile(world_dataset['pf_identity'].dropna(), percs)\n",
    "world_sample = numpy.percentile(world_dataset['pf_identity'].dropna(), percs)\n",
    "latam_sample = numpy.percentile(latam_dataset['pf_identity'].dropna(), percs)"
   ]
  },
  {
   "cell_type": "code",
   "execution_count": 44,
   "metadata": {},
   "outputs": [
    {
     "data": {
      "image/png": "[encoded data removed]",
      "text/plain": [
       "<Figure size 864x432 with 1 Axes>"
      ]
     },
     "metadata": {
      "needs_background": "light"
     },
     "output_type": "display_data"
    }
   ],
   "source": [
    "plt.figure(figsize=(12,6))\n",
    "seaborn.regplot(x=world_sample, y=latam_sample)\n",
    "plt.xlabel('Percentiles Globales')\n",
    "plt.ylabel('Percentiles de America Latina y el Caribe')\n",
    "plt.title('Gráfico QQ de la distribución de pf_identity en el mundo y America Latina y el Caribe')\n",
    "\n",
    "x = numpy.linspace(numpy.min((world_sample.min(), latam_sample.min())), numpy.max((world_sample.max(),latam_sample.max())))\n",
    "plt.plot(x,x, color='#FF5964', ls=\"--\")\n",
    "\n",
    "seaborn.despine()"
   ]
  },
  {
   "cell_type": "markdown",
   "metadata": {},
   "source": [
    "4. Medimos el Skew"
   ]
  },
  {
   "cell_type": "code",
   "execution_count": 51,
   "metadata": {},
   "outputs": [
    {
     "data": {
      "text/plain": [
       "(-1.0478440216224703, -1.442092151332142)"
      ]
     },
     "execution_count": 51,
     "metadata": {},
     "output_type": "execute_result"
    }
   ],
   "source": [
    "skew_pf = scipy.stats.skew (latam_dataset['pf_identity'].dropna())\n",
    "skew_hf = scipy.stats.skew (latam_dataset['hf_score'].dropna())\n",
    "\n",
    "skew_pf, skew_hf"
   ]
  },
  {
   "cell_type": "markdown",
   "metadata": {},
   "source": [
    "Medimos la Curtosis"
   ]
  },
  {
   "cell_type": "code",
   "execution_count": 53,
   "metadata": {},
   "outputs": [
    {
     "data": {
      "text/plain": [
       "(-0.2953048553672586, 5.340188962725749)"
      ]
     },
     "execution_count": 53,
     "metadata": {},
     "output_type": "execute_result"
    }
   ],
   "source": [
    "kurtosis_pf = scipy.stats.kurtosis(latam_dataset['pf_identity'].dropna())\n",
    "kurtosis_hf = scipy.stats.kurtosis(latam_dataset['hf_score'].dropna())\n",
    "\n",
    "kurtosis_pf, kurtosis_hf"
   ]
  },
  {
   "cell_type": "markdown",
   "metadata": {},
   "source": [
    "En el grafico podemos observar .......  COMPLETAR  !!!!!!!!!!!!!!"
   ]
  },
  {
   "cell_type": "markdown",
   "metadata": {},
   "source": [
    "## 3. Correlaciones\n",
    "\n",
    "En este ejercicio queremos responder a las preguntas\n",
    "\n",
    "* Las libertades sociales y económicas, ¿van siempre de la mano?\n",
    "* ¿Cómo se relacionan ambas con las libertades individuales y respectivas a las relaciones personales?\n",
    "\n",
    "Para ello, analizaremos las correlaciones entre las variables pf_identity, hf_score y ef_score. \n",
    "\n",
    "Como pf_indentity contribuye al cálculo de hf_score y ef_score, esperamos hallar algún grado de correlación. Sin embargo, queremos medir qué tanta correlación. \n",
    "\n",
    "1. ¿Qué conclusiones puede sacar de un gráfico pairplot de estas tres variables? ¿Es adecuado para los valores de pf_identity? ¿Por qué?\n",
    "2. Graficar la correlación entre pf_identity y hf_score; y entre pf_identity y ef_score. Analizar el resultado, ¿se pueden sacar conclusiones? Tengan en cuenta que como pf_identity es el resultado de un promedio, sólo toma algunos valores. Es, en efecto, discreta.\n",
    "3. Calcular algún coeficiente de correlación adecuado entre los dos pares de variables, dependiendo de la cantidad de datos, el tipo de datos y la distribución de los mismo. Algunas opciones son: coeficiente de pearson, coeficiente de spearman, coeficientes de tau y de kendall. Interpretar los resultados y justificar si las variables están correlacionadas o no. \n",
    "4. [Opcional] Analizar la correlación entre la region y el hf_score (y/o el ef_score); y entre la region y el pf_identity. Considerar que como la variable *region* es ordinal, debe utilizarse algún tipo de test. Explicar cuáles son los requisitos necesarios para la aplicación de ese test. (Si no se cumplieran, se pueden agregar algunos datos para generar más registros)\n"
   ]
  },
  {
   "cell_type": "markdown",
   "metadata": {},
   "source": [
    "1. Graficamos el pairplot"
   ]
  },
  {
   "cell_type": "code",
   "execution_count": 64,
   "metadata": {},
   "outputs": [
    {
     "data": {
      "image/png": "[encoded data removed]",
      "text/plain": [
       "<Figure size 864x864 with 12 Axes>"
      ]
     },
     "metadata": {
      "needs_background": "light"
     },
     "output_type": "display_data"
    }
   ],
   "source": [
    "seaborn.pairplot(data=latam_dataset.dropna(), vars=['pf_identity', 'hf_score', 'ef_score'], height=4)\n",
    "seaborn.despine()"
   ]
  },
  {
   "cell_type": "markdown",
   "metadata": {},
   "source": [
    "2. Graficamos la correlacion entre *pf_identity* y *hf_score*"
   ]
  },
  {
   "cell_type": "code",
   "execution_count": 68,
   "metadata": {},
   "outputs": [
    {
     "data": {
      "image/png": "[encoded data removed]",
      "text/plain": [
       "<Figure size 1224x432 with 1 Axes>"
      ]
     },
     "metadata": {
      "needs_background": "light"
     },
     "output_type": "display_data"
    }
   ],
   "source": [
    "plt.figure(figsize=(17,6))\n",
    "seaborn.scatterplot(data=latam_dataset,x='pf_identity',y='hf_score')\n",
    "plt.xticks(rotation=45)\n",
    "seaborn.despine()"
   ]
  },
  {
   "cell_type": "markdown",
   "metadata": {},
   "source": [
    "Graficamos la correlacion entre *hf_score* y*pf_identity*"
   ]
  },
  {
   "cell_type": "code",
   "execution_count": 70,
   "metadata": {},
   "outputs": [
    {
     "data": {
      "image/png": "[encoded data removed]",
      "text/plain": [
       "<Figure size 1224x432 with 1 Axes>"
      ]
     },
     "metadata": {
      "needs_background": "light"
     },
     "output_type": "display_data"
    }
   ],
   "source": [
    "plt.figure(figsize=(17,6))\n",
    "seaborn.scatterplot(data=latam_dataset,x='pf_identity',y='ef_score')\n",
    "plt.xticks(rotation=45)\n",
    "seaborn.despine()"
   ]
  },
  {
   "cell_type": "markdown",
   "metadata": {},
   "source": [
    "A primer vista los graficos no parecen demasiado diferentes. Observamos que los puntajes mas bajos tanto de ef_score como de hf_score se dan en paises donde pf_identity es alto, con un par de valores aislados en 7,5."
   ]
  },
  {
   "cell_type": "code",
   "execution_count": null,
   "metadata": {},
   "outputs": [],
   "source": []
  },
  {
   "cell_type": "code",
   "execution_count": null,
   "metadata": {},
   "outputs": [],
   "source": []
  }
 ],
 "metadata": {
  "kernelspec": {
   "display_name": "Python 3",
   "language": "python",
   "name": "python3"
  },
  "language_info": {
   "codemirror_mode": {
    "name": "ipython",
    "version": 3
   },
   "file_extension": ".py",
   "mimetype": "text/x-python",
   "name": "python",
   "nbconvert_exporter": "python",
   "pygments_lexer": "ipython3",
   "version": "3.7.3"
  }
 },
 "nbformat": 4,
 "nbformat_minor": 2
}
